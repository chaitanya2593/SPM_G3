{
 "cells": [
  {
   "cell_type": "markdown",
   "metadata": {
    "id": "RVyzYWs00QCc"
   },
   "source": [
    "1. Clean the Text data - Chaitanya\n",
    "2. calculate the Frequency \n",
    "3. Profitibility calcultion - Hawei\n",
    "4. Merge teh 2 & 3 and create a final ranking "
   ]
  },
  {
   "cell_type": "markdown",
   "metadata": {
    "id": "qPUqvWwR4Fk-"
   },
   "source": [
    "# File created for parallel execution"
   ]
  },
  {
   "cell_type": "code",
   "execution_count": 226,
   "metadata": {
    "executionInfo": {
     "elapsed": 220,
     "status": "ok",
     "timestamp": 1665321698561,
     "user": {
      "displayName": "Chaitanya Madduri",
      "userId": "05909831547153523272"
     },
     "user_tz": -120
    },
    "id": "-VFR3vS86HsM"
   },
   "outputs": [],
   "source": [
    "# to remove teh printing barrier\n",
    "pd.set_option('display.max_columns', None)\n",
    "pd.set_option('display.max_rows', None)"
   ]
  },
  {
   "cell_type": "code",
   "execution_count": 254,
   "metadata": {
    "colab": {
     "base_uri": "https://localhost:8080/"
    },
    "executionInfo": {
     "elapsed": 2628,
     "status": "ok",
     "timestamp": 1665325848243,
     "user": {
      "displayName": "Chaitanya Madduri",
      "userId": "05909831547153523272"
     },
     "user_tz": -120
    },
    "id": "eJqTRGh-9VBZ",
    "outputId": "c6181f69-4c83-4738-dbd9-8294c7a7189f"
   },
   "outputs": [
    {
     "name": "stdout",
     "output_type": "stream",
     "text": [
      "Drive already mounted at /content/drive; to attempt to forcibly remount, call drive.mount(\"/content/drive\", force_remount=True).\n"
     ]
    }
   ],
   "source": [
    "from google.colab import drive\n",
    "drive.mount('/content/drive')\n",
    "from IPython.display import clear_output"
   ]
  },
  {
   "cell_type": "code",
   "execution_count": 255,
   "metadata": {
    "executionInfo": {
     "elapsed": 6,
     "status": "ok",
     "timestamp": 1665325848244,
     "user": {
      "displayName": "Chaitanya Madduri",
      "userId": "05909831547153523272"
     },
     "user_tz": -120
    },
    "id": "HPtyXjWp9fpV"
   },
   "outputs": [],
   "source": [
    "import pandas as pd\n",
    "import numpy as np\n",
    "import re \n"
   ]
  },
  {
   "cell_type": "code",
   "execution_count": 256,
   "metadata": {
    "executionInfo": {
     "elapsed": 2,
     "status": "ok",
     "timestamp": 1665325850002,
     "user": {
      "displayName": "Chaitanya Madduri",
      "userId": "05909831547153523272"
     },
     "user_tz": -120
    },
    "id": "WFFOiRnhs95O"
   },
   "outputs": [],
   "source": [
    "DIR_PATH = \"/content/drive/MyDrive/SPM_files/\"\n",
    "\n",
    "# Profitability Analysis\n",
    "df = pd.read_csv(DIR_PATH + \"profitability_data.csv\")\n"
   ]
  },
  {
   "cell_type": "code",
   "execution_count": 257,
   "metadata": {
    "colab": {
     "base_uri": "https://localhost:8080/"
    },
    "executionInfo": {
     "elapsed": 273,
     "status": "ok",
     "timestamp": 1665325851595,
     "user": {
      "displayName": "Chaitanya Madduri",
      "userId": "05909831547153523272"
     },
     "user_tz": -120
    },
    "id": "n4JKyKez9a9B",
    "outputId": "ef7c3388-5ed0-4999-b1f9-f0582833c376"
   },
   "outputs": [
    {
     "data": {
      "text/plain": [
       "(506, 10)"
      ]
     },
     "execution_count": 257,
     "metadata": {},
     "output_type": "execute_result"
    }
   ],
   "source": [
    "df.shape"
   ]
  },
  {
   "cell_type": "code",
   "execution_count": 258,
   "metadata": {
    "colab": {
     "base_uri": "https://localhost:8080/",
     "height": 337
    },
    "executionInfo": {
     "elapsed": 245,
     "status": "ok",
     "timestamp": 1665325853503,
     "user": {
      "displayName": "Chaitanya Madduri",
      "userId": "05909831547153523272"
     },
     "user_tz": -120
    },
    "id": "tb72hEJSZovu",
    "outputId": "278f5b84-45f4-41ff-cf17-aed323d1f432"
   },
   "outputs": [
    {
     "data": {
      "text/html": [
       "\n",
       "  <div id=\"df-cb1b631b-e983-4ce6-8f92-dea9a6aea0bb\">\n",
       "    <div class=\"colab-df-container\">\n",
       "      <div>\n",
       "<style scoped>\n",
       "    .dataframe tbody tr th:only-of-type {\n",
       "        vertical-align: middle;\n",
       "    }\n",
       "\n",
       "    .dataframe tbody tr th {\n",
       "        vertical-align: top;\n",
       "    }\n",
       "\n",
       "    .dataframe thead th {\n",
       "        text-align: right;\n",
       "    }\n",
       "</style>\n",
       "<table border=\"1\" class=\"dataframe\">\n",
       "  <thead>\n",
       "    <tr style=\"text-align: right;\">\n",
       "      <th></th>\n",
       "      <th>Company_Key</th>\n",
       "      <th>year</th>\n",
       "      <th>profitability</th>\n",
       "      <th>Company_Name</th>\n",
       "      <th>profitability_next_1</th>\n",
       "      <th>profitability_next_2</th>\n",
       "      <th>profitability_next_3</th>\n",
       "      <th>change_next_1</th>\n",
       "      <th>change_next_2</th>\n",
       "      <th>change_next_3</th>\n",
       "    </tr>\n",
       "  </thead>\n",
       "  <tbody>\n",
       "    <tr>\n",
       "      <th>0</th>\n",
       "      <td>764622</td>\n",
       "      <td>2011</td>\n",
       "      <td>0.0561</td>\n",
       "      <td>PINNACLE WEST CAPITAL CORP</td>\n",
       "      <td>0.0707</td>\n",
       "      <td>0.0621</td>\n",
       "      <td>0.0519</td>\n",
       "      <td>25.88</td>\n",
       "      <td>10.69</td>\n",
       "      <td>-7.51</td>\n",
       "    </tr>\n",
       "    <tr>\n",
       "      <th>1</th>\n",
       "      <td>764622</td>\n",
       "      <td>2012</td>\n",
       "      <td>0.0707</td>\n",
       "      <td>PINNACLE WEST CAPITAL CORP</td>\n",
       "      <td>0.0621</td>\n",
       "      <td>0.0519</td>\n",
       "      <td>0.0753</td>\n",
       "      <td>-12.07</td>\n",
       "      <td>-26.53</td>\n",
       "      <td>6.59</td>\n",
       "    </tr>\n",
       "    <tr>\n",
       "      <th>2</th>\n",
       "      <td>764622</td>\n",
       "      <td>2013</td>\n",
       "      <td>0.0621</td>\n",
       "      <td>PINNACLE WEST CAPITAL CORP</td>\n",
       "      <td>0.0519</td>\n",
       "      <td>0.0753</td>\n",
       "      <td>0.0733</td>\n",
       "      <td>-16.44</td>\n",
       "      <td>21.22</td>\n",
       "      <td>17.92</td>\n",
       "    </tr>\n",
       "    <tr>\n",
       "      <th>3</th>\n",
       "      <td>764622</td>\n",
       "      <td>2014</td>\n",
       "      <td>0.0519</td>\n",
       "      <td>PINNACLE WEST CAPITAL CORP</td>\n",
       "      <td>0.0753</td>\n",
       "      <td>0.0733</td>\n",
       "      <td>0.0932</td>\n",
       "      <td>45.07</td>\n",
       "      <td>41.12</td>\n",
       "      <td>79.60</td>\n",
       "    </tr>\n",
       "    <tr>\n",
       "      <th>4</th>\n",
       "      <td>764622</td>\n",
       "      <td>2015</td>\n",
       "      <td>0.0753</td>\n",
       "      <td>PINNACLE WEST CAPITAL CORP</td>\n",
       "      <td>0.0733</td>\n",
       "      <td>0.0932</td>\n",
       "      <td>0.0668</td>\n",
       "      <td>-2.72</td>\n",
       "      <td>23.80</td>\n",
       "      <td>-11.36</td>\n",
       "    </tr>\n",
       "  </tbody>\n",
       "</table>\n",
       "</div>\n",
       "      <button class=\"colab-df-convert\" onclick=\"convertToInteractive('df-cb1b631b-e983-4ce6-8f92-dea9a6aea0bb')\"\n",
       "              title=\"Convert this dataframe to an interactive table.\"\n",
       "              style=\"display:none;\">\n",
       "        \n",
       "  <svg xmlns=\"http://www.w3.org/2000/svg\" height=\"24px\"viewBox=\"0 0 24 24\"\n",
       "       width=\"24px\">\n",
       "    <path d=\"M0 0h24v24H0V0z\" fill=\"none\"/>\n",
       "    <path d=\"M18.56 5.44l.94 2.06.94-2.06 2.06-.94-2.06-.94-.94-2.06-.94 2.06-2.06.94zm-11 1L8.5 8.5l.94-2.06 2.06-.94-2.06-.94L8.5 2.5l-.94 2.06-2.06.94zm10 10l.94 2.06.94-2.06 2.06-.94-2.06-.94-.94-2.06-.94 2.06-2.06.94z\"/><path d=\"M17.41 7.96l-1.37-1.37c-.4-.4-.92-.59-1.43-.59-.52 0-1.04.2-1.43.59L10.3 9.45l-7.72 7.72c-.78.78-.78 2.05 0 2.83L4 21.41c.39.39.9.59 1.41.59.51 0 1.02-.2 1.41-.59l7.78-7.78 2.81-2.81c.8-.78.8-2.07 0-2.86zM5.41 20L4 18.59l7.72-7.72 1.47 1.35L5.41 20z\"/>\n",
       "  </svg>\n",
       "      </button>\n",
       "      \n",
       "  <style>\n",
       "    .colab-df-container {\n",
       "      display:flex;\n",
       "      flex-wrap:wrap;\n",
       "      gap: 12px;\n",
       "    }\n",
       "\n",
       "    .colab-df-convert {\n",
       "      background-color: #E8F0FE;\n",
       "      border: none;\n",
       "      border-radius: 50%;\n",
       "      cursor: pointer;\n",
       "      display: none;\n",
       "      fill: #1967D2;\n",
       "      height: 32px;\n",
       "      padding: 0 0 0 0;\n",
       "      width: 32px;\n",
       "    }\n",
       "\n",
       "    .colab-df-convert:hover {\n",
       "      background-color: #E2EBFA;\n",
       "      box-shadow: 0px 1px 2px rgba(60, 64, 67, 0.3), 0px 1px 3px 1px rgba(60, 64, 67, 0.15);\n",
       "      fill: #174EA6;\n",
       "    }\n",
       "\n",
       "    [theme=dark] .colab-df-convert {\n",
       "      background-color: #3B4455;\n",
       "      fill: #D2E3FC;\n",
       "    }\n",
       "\n",
       "    [theme=dark] .colab-df-convert:hover {\n",
       "      background-color: #434B5C;\n",
       "      box-shadow: 0px 1px 3px 1px rgba(0, 0, 0, 0.15);\n",
       "      filter: drop-shadow(0px 1px 2px rgba(0, 0, 0, 0.3));\n",
       "      fill: #FFFFFF;\n",
       "    }\n",
       "  </style>\n",
       "\n",
       "      <script>\n",
       "        const buttonEl =\n",
       "          document.querySelector('#df-cb1b631b-e983-4ce6-8f92-dea9a6aea0bb button.colab-df-convert');\n",
       "        buttonEl.style.display =\n",
       "          google.colab.kernel.accessAllowed ? 'block' : 'none';\n",
       "\n",
       "        async function convertToInteractive(key) {\n",
       "          const element = document.querySelector('#df-cb1b631b-e983-4ce6-8f92-dea9a6aea0bb');\n",
       "          const dataTable =\n",
       "            await google.colab.kernel.invokeFunction('convertToInteractive',\n",
       "                                                     [key], {});\n",
       "          if (!dataTable) return;\n",
       "\n",
       "          const docLinkHtml = 'Like what you see? Visit the ' +\n",
       "            '<a target=\"_blank\" href=https://colab.research.google.com/notebooks/data_table.ipynb>data table notebook</a>'\n",
       "            + ' to learn more about interactive tables.';\n",
       "          element.innerHTML = '';\n",
       "          dataTable['output_type'] = 'display_data';\n",
       "          await google.colab.output.renderOutput(dataTable, element);\n",
       "          const docLink = document.createElement('div');\n",
       "          docLink.innerHTML = docLinkHtml;\n",
       "          element.appendChild(docLink);\n",
       "        }\n",
       "      </script>\n",
       "    </div>\n",
       "  </div>\n",
       "  "
      ],
      "text/plain": [
       "   Company_Key  year  profitability                Company_Name  \\\n",
       "0       764622  2011         0.0561  PINNACLE WEST CAPITAL CORP   \n",
       "1       764622  2012         0.0707  PINNACLE WEST CAPITAL CORP   \n",
       "2       764622  2013         0.0621  PINNACLE WEST CAPITAL CORP   \n",
       "3       764622  2014         0.0519  PINNACLE WEST CAPITAL CORP   \n",
       "4       764622  2015         0.0753  PINNACLE WEST CAPITAL CORP   \n",
       "\n",
       "   profitability_next_1  profitability_next_2  profitability_next_3  \\\n",
       "0                0.0707                0.0621                0.0519   \n",
       "1                0.0621                0.0519                0.0753   \n",
       "2                0.0519                0.0753                0.0733   \n",
       "3                0.0753                0.0733                0.0932   \n",
       "4                0.0733                0.0932                0.0668   \n",
       "\n",
       "   change_next_1  change_next_2  change_next_3  \n",
       "0          25.88          10.69          -7.51  \n",
       "1         -12.07         -26.53           6.59  \n",
       "2         -16.44          21.22          17.92  \n",
       "3          45.07          41.12          79.60  \n",
       "4          -2.72          23.80         -11.36  "
      ]
     },
     "execution_count": 258,
     "metadata": {},
     "output_type": "execute_result"
    }
   ],
   "source": [
    "df.head()"
   ]
  },
  {
   "cell_type": "code",
   "execution_count": 259,
   "metadata": {
    "executionInfo": {
     "elapsed": 6046,
     "status": "ok",
     "timestamp": 1665325861202,
     "user": {
      "displayName": "Chaitanya Madduri",
      "userId": "05909831547153523272"
     },
     "user_tz": -120
    },
    "id": "7Ir-QvdQtVoN"
   },
   "outputs": [],
   "source": [
    "DIR_PATH = \"/content/drive/MyDrive/SPM_files/\"\n",
    "df_final = pd.read_csv(DIR_PATH + \"final_df_v2.csv\")"
   ]
  },
  {
   "cell_type": "code",
   "execution_count": 260,
   "metadata": {
    "colab": {
     "base_uri": "https://localhost:8080/",
     "height": 300
    },
    "executionInfo": {
     "elapsed": 12,
     "status": "ok",
     "timestamp": 1665325861202,
     "user": {
      "displayName": "Chaitanya Madduri",
      "userId": "05909831547153523272"
     },
     "user_tz": -120
    },
    "id": "rXWoc4gPVa8K",
    "outputId": "a9e76f79-ba12-4867-898d-c36f20e9b70b"
   },
   "outputs": [
    {
     "data": {
      "text/html": [
       "\n",
       "  <div id=\"df-2a8ec15c-8205-4f4d-8a83-f1336b2de46a\">\n",
       "    <div class=\"colab-df-container\">\n",
       "      <div>\n",
       "<style scoped>\n",
       "    .dataframe tbody tr th:only-of-type {\n",
       "        vertical-align: middle;\n",
       "    }\n",
       "\n",
       "    .dataframe tbody tr th {\n",
       "        vertical-align: top;\n",
       "    }\n",
       "\n",
       "    .dataframe thead th {\n",
       "        text-align: right;\n",
       "    }\n",
       "</style>\n",
       "<table border=\"1\" class=\"dataframe\">\n",
       "  <thead>\n",
       "    <tr style=\"text-align: right;\">\n",
       "      <th></th>\n",
       "      <th>Company_Key</th>\n",
       "      <th>Year</th>\n",
       "      <th>operation_percentage</th>\n",
       "      <th>negative_percentage</th>\n",
       "      <th>credit_percentage</th>\n",
       "    </tr>\n",
       "  </thead>\n",
       "  <tbody>\n",
       "    <tr>\n",
       "      <th>count</th>\n",
       "      <td>8.300000e+02</td>\n",
       "      <td>830.000000</td>\n",
       "      <td>830.000000</td>\n",
       "      <td>598.000000</td>\n",
       "      <td>830.000000</td>\n",
       "    </tr>\n",
       "    <tr>\n",
       "      <th>mean</th>\n",
       "      <td>8.735917e+05</td>\n",
       "      <td>2016.428916</td>\n",
       "      <td>0.012731</td>\n",
       "      <td>0.018420</td>\n",
       "      <td>0.002470</td>\n",
       "    </tr>\n",
       "    <tr>\n",
       "      <th>std</th>\n",
       "      <td>5.325722e+05</td>\n",
       "      <td>3.049512</td>\n",
       "      <td>0.003603</td>\n",
       "      <td>0.004572</td>\n",
       "      <td>0.002742</td>\n",
       "    </tr>\n",
       "    <tr>\n",
       "      <th>min</th>\n",
       "      <td>4.904000e+03</td>\n",
       "      <td>2011.000000</td>\n",
       "      <td>0.003567</td>\n",
       "      <td>0.005380</td>\n",
       "      <td>0.000000</td>\n",
       "    </tr>\n",
       "    <tr>\n",
       "      <th>25%</th>\n",
       "      <td>3.525410e+05</td>\n",
       "      <td>2014.000000</td>\n",
       "      <td>0.009780</td>\n",
       "      <td>0.016157</td>\n",
       "      <td>0.001150</td>\n",
       "    </tr>\n",
       "    <tr>\n",
       "      <th>50%</th>\n",
       "      <td>1.021635e+06</td>\n",
       "      <td>2017.000000</td>\n",
       "      <td>0.012743</td>\n",
       "      <td>0.018644</td>\n",
       "      <td>0.001779</td>\n",
       "    </tr>\n",
       "    <tr>\n",
       "      <th>75%</th>\n",
       "      <td>1.317630e+06</td>\n",
       "      <td>2019.000000</td>\n",
       "      <td>0.014995</td>\n",
       "      <td>0.021384</td>\n",
       "      <td>0.002771</td>\n",
       "    </tr>\n",
       "    <tr>\n",
       "      <th>max</th>\n",
       "      <td>1.783400e+06</td>\n",
       "      <td>2021.000000</td>\n",
       "      <td>0.025175</td>\n",
       "      <td>0.030543</td>\n",
       "      <td>0.033586</td>\n",
       "    </tr>\n",
       "  </tbody>\n",
       "</table>\n",
       "</div>\n",
       "      <button class=\"colab-df-convert\" onclick=\"convertToInteractive('df-2a8ec15c-8205-4f4d-8a83-f1336b2de46a')\"\n",
       "              title=\"Convert this dataframe to an interactive table.\"\n",
       "              style=\"display:none;\">\n",
       "        \n",
       "  <svg xmlns=\"http://www.w3.org/2000/svg\" height=\"24px\"viewBox=\"0 0 24 24\"\n",
       "       width=\"24px\">\n",
       "    <path d=\"M0 0h24v24H0V0z\" fill=\"none\"/>\n",
       "    <path d=\"M18.56 5.44l.94 2.06.94-2.06 2.06-.94-2.06-.94-.94-2.06-.94 2.06-2.06.94zm-11 1L8.5 8.5l.94-2.06 2.06-.94-2.06-.94L8.5 2.5l-.94 2.06-2.06.94zm10 10l.94 2.06.94-2.06 2.06-.94-2.06-.94-.94-2.06-.94 2.06-2.06.94z\"/><path d=\"M17.41 7.96l-1.37-1.37c-.4-.4-.92-.59-1.43-.59-.52 0-1.04.2-1.43.59L10.3 9.45l-7.72 7.72c-.78.78-.78 2.05 0 2.83L4 21.41c.39.39.9.59 1.41.59.51 0 1.02-.2 1.41-.59l7.78-7.78 2.81-2.81c.8-.78.8-2.07 0-2.86zM5.41 20L4 18.59l7.72-7.72 1.47 1.35L5.41 20z\"/>\n",
       "  </svg>\n",
       "      </button>\n",
       "      \n",
       "  <style>\n",
       "    .colab-df-container {\n",
       "      display:flex;\n",
       "      flex-wrap:wrap;\n",
       "      gap: 12px;\n",
       "    }\n",
       "\n",
       "    .colab-df-convert {\n",
       "      background-color: #E8F0FE;\n",
       "      border: none;\n",
       "      border-radius: 50%;\n",
       "      cursor: pointer;\n",
       "      display: none;\n",
       "      fill: #1967D2;\n",
       "      height: 32px;\n",
       "      padding: 0 0 0 0;\n",
       "      width: 32px;\n",
       "    }\n",
       "\n",
       "    .colab-df-convert:hover {\n",
       "      background-color: #E2EBFA;\n",
       "      box-shadow: 0px 1px 2px rgba(60, 64, 67, 0.3), 0px 1px 3px 1px rgba(60, 64, 67, 0.15);\n",
       "      fill: #174EA6;\n",
       "    }\n",
       "\n",
       "    [theme=dark] .colab-df-convert {\n",
       "      background-color: #3B4455;\n",
       "      fill: #D2E3FC;\n",
       "    }\n",
       "\n",
       "    [theme=dark] .colab-df-convert:hover {\n",
       "      background-color: #434B5C;\n",
       "      box-shadow: 0px 1px 3px 1px rgba(0, 0, 0, 0.15);\n",
       "      filter: drop-shadow(0px 1px 2px rgba(0, 0, 0, 0.3));\n",
       "      fill: #FFFFFF;\n",
       "    }\n",
       "  </style>\n",
       "\n",
       "      <script>\n",
       "        const buttonEl =\n",
       "          document.querySelector('#df-2a8ec15c-8205-4f4d-8a83-f1336b2de46a button.colab-df-convert');\n",
       "        buttonEl.style.display =\n",
       "          google.colab.kernel.accessAllowed ? 'block' : 'none';\n",
       "\n",
       "        async function convertToInteractive(key) {\n",
       "          const element = document.querySelector('#df-2a8ec15c-8205-4f4d-8a83-f1336b2de46a');\n",
       "          const dataTable =\n",
       "            await google.colab.kernel.invokeFunction('convertToInteractive',\n",
       "                                                     [key], {});\n",
       "          if (!dataTable) return;\n",
       "\n",
       "          const docLinkHtml = 'Like what you see? Visit the ' +\n",
       "            '<a target=\"_blank\" href=https://colab.research.google.com/notebooks/data_table.ipynb>data table notebook</a>'\n",
       "            + ' to learn more about interactive tables.';\n",
       "          element.innerHTML = '';\n",
       "          dataTable['output_type'] = 'display_data';\n",
       "          await google.colab.output.renderOutput(dataTable, element);\n",
       "          const docLink = document.createElement('div');\n",
       "          docLink.innerHTML = docLinkHtml;\n",
       "          element.appendChild(docLink);\n",
       "        }\n",
       "      </script>\n",
       "    </div>\n",
       "  </div>\n",
       "  "
      ],
      "text/plain": [
       "        Company_Key         Year  operation_percentage  negative_percentage  \\\n",
       "count  8.300000e+02   830.000000            830.000000           598.000000   \n",
       "mean   8.735917e+05  2016.428916              0.012731             0.018420   \n",
       "std    5.325722e+05     3.049512              0.003603             0.004572   \n",
       "min    4.904000e+03  2011.000000              0.003567             0.005380   \n",
       "25%    3.525410e+05  2014.000000              0.009780             0.016157   \n",
       "50%    1.021635e+06  2017.000000              0.012743             0.018644   \n",
       "75%    1.317630e+06  2019.000000              0.014995             0.021384   \n",
       "max    1.783400e+06  2021.000000              0.025175             0.030543   \n",
       "\n",
       "       credit_percentage  \n",
       "count         830.000000  \n",
       "mean            0.002470  \n",
       "std             0.002742  \n",
       "min             0.000000  \n",
       "25%             0.001150  \n",
       "50%             0.001779  \n",
       "75%             0.002771  \n",
       "max             0.033586  "
      ]
     },
     "execution_count": 260,
     "metadata": {},
     "output_type": "execute_result"
    }
   ],
   "source": [
    "df_final.describe()"
   ]
  },
  {
   "cell_type": "code",
   "execution_count": 261,
   "metadata": {
    "colab": {
     "base_uri": "https://localhost:8080/",
     "height": 191
    },
    "executionInfo": {
     "elapsed": 10,
     "status": "ok",
     "timestamp": 1665325861203,
     "user": {
      "displayName": "Chaitanya Madduri",
      "userId": "05909831547153523272"
     },
     "user_tz": -120
    },
    "id": "WqSTgfzgzSps",
    "outputId": "7805d377-89ea-4375-9682-08f1c04147ee"
   },
   "outputs": [
    {
     "data": {
      "text/html": [
       "\n",
       "  <div id=\"df-ff54b14a-2568-459d-abf8-4be3ae367332\">\n",
       "    <div class=\"colab-df-container\">\n",
       "      <div>\n",
       "<style scoped>\n",
       "    .dataframe tbody tr th:only-of-type {\n",
       "        vertical-align: middle;\n",
       "    }\n",
       "\n",
       "    .dataframe tbody tr th {\n",
       "        vertical-align: top;\n",
       "    }\n",
       "\n",
       "    .dataframe thead th {\n",
       "        text-align: right;\n",
       "    }\n",
       "</style>\n",
       "<table border=\"1\" class=\"dataframe\">\n",
       "  <thead>\n",
       "    <tr style=\"text-align: right;\">\n",
       "      <th></th>\n",
       "      <th>Company_Key</th>\n",
       "      <th>Quarter_details</th>\n",
       "      <th>Year</th>\n",
       "      <th>filing_type</th>\n",
       "      <th>Text_data_cleaned</th>\n",
       "      <th>operation_percentage</th>\n",
       "      <th>negative_percentage</th>\n",
       "      <th>credit_percentage</th>\n",
       "      <th>compamy_name</th>\n",
       "    </tr>\n",
       "  </thead>\n",
       "  <tbody>\n",
       "    <tr>\n",
       "      <th>0</th>\n",
       "      <td>1126956</td>\n",
       "      <td>QTR4</td>\n",
       "      <td>2011</td>\n",
       "      <td>10-K</td>\n",
       "      <td>0001126956 000074 20111121 lacledegroupform10 ...</td>\n",
       "      <td>0.015983</td>\n",
       "      <td>0.018151</td>\n",
       "      <td>0.001653</td>\n",
       "      <td>LACLEDE GROUP INC</td>\n",
       "    </tr>\n",
       "    <tr>\n",
       "      <th>1</th>\n",
       "      <td>1126956</td>\n",
       "      <td>QTR4</td>\n",
       "      <td>2011</td>\n",
       "      <td>10-K</td>\n",
       "      <td>0001126956 000075 20111121 lacledegasfor10 k20...</td>\n",
       "      <td>0.019980</td>\n",
       "      <td>0.017551</td>\n",
       "      <td>0.001041</td>\n",
       "      <td>LACLEDE GAS CO</td>\n",
       "    </tr>\n",
       "  </tbody>\n",
       "</table>\n",
       "</div>\n",
       "      <button class=\"colab-df-convert\" onclick=\"convertToInteractive('df-ff54b14a-2568-459d-abf8-4be3ae367332')\"\n",
       "              title=\"Convert this dataframe to an interactive table.\"\n",
       "              style=\"display:none;\">\n",
       "        \n",
       "  <svg xmlns=\"http://www.w3.org/2000/svg\" height=\"24px\"viewBox=\"0 0 24 24\"\n",
       "       width=\"24px\">\n",
       "    <path d=\"M0 0h24v24H0V0z\" fill=\"none\"/>\n",
       "    <path d=\"M18.56 5.44l.94 2.06.94-2.06 2.06-.94-2.06-.94-.94-2.06-.94 2.06-2.06.94zm-11 1L8.5 8.5l.94-2.06 2.06-.94-2.06-.94L8.5 2.5l-.94 2.06-2.06.94zm10 10l.94 2.06.94-2.06 2.06-.94-2.06-.94-.94-2.06-.94 2.06-2.06.94z\"/><path d=\"M17.41 7.96l-1.37-1.37c-.4-.4-.92-.59-1.43-.59-.52 0-1.04.2-1.43.59L10.3 9.45l-7.72 7.72c-.78.78-.78 2.05 0 2.83L4 21.41c.39.39.9.59 1.41.59.51 0 1.02-.2 1.41-.59l7.78-7.78 2.81-2.81c.8-.78.8-2.07 0-2.86zM5.41 20L4 18.59l7.72-7.72 1.47 1.35L5.41 20z\"/>\n",
       "  </svg>\n",
       "      </button>\n",
       "      \n",
       "  <style>\n",
       "    .colab-df-container {\n",
       "      display:flex;\n",
       "      flex-wrap:wrap;\n",
       "      gap: 12px;\n",
       "    }\n",
       "\n",
       "    .colab-df-convert {\n",
       "      background-color: #E8F0FE;\n",
       "      border: none;\n",
       "      border-radius: 50%;\n",
       "      cursor: pointer;\n",
       "      display: none;\n",
       "      fill: #1967D2;\n",
       "      height: 32px;\n",
       "      padding: 0 0 0 0;\n",
       "      width: 32px;\n",
       "    }\n",
       "\n",
       "    .colab-df-convert:hover {\n",
       "      background-color: #E2EBFA;\n",
       "      box-shadow: 0px 1px 2px rgba(60, 64, 67, 0.3), 0px 1px 3px 1px rgba(60, 64, 67, 0.15);\n",
       "      fill: #174EA6;\n",
       "    }\n",
       "\n",
       "    [theme=dark] .colab-df-convert {\n",
       "      background-color: #3B4455;\n",
       "      fill: #D2E3FC;\n",
       "    }\n",
       "\n",
       "    [theme=dark] .colab-df-convert:hover {\n",
       "      background-color: #434B5C;\n",
       "      box-shadow: 0px 1px 3px 1px rgba(0, 0, 0, 0.15);\n",
       "      filter: drop-shadow(0px 1px 2px rgba(0, 0, 0, 0.3));\n",
       "      fill: #FFFFFF;\n",
       "    }\n",
       "  </style>\n",
       "\n",
       "      <script>\n",
       "        const buttonEl =\n",
       "          document.querySelector('#df-ff54b14a-2568-459d-abf8-4be3ae367332 button.colab-df-convert');\n",
       "        buttonEl.style.display =\n",
       "          google.colab.kernel.accessAllowed ? 'block' : 'none';\n",
       "\n",
       "        async function convertToInteractive(key) {\n",
       "          const element = document.querySelector('#df-ff54b14a-2568-459d-abf8-4be3ae367332');\n",
       "          const dataTable =\n",
       "            await google.colab.kernel.invokeFunction('convertToInteractive',\n",
       "                                                     [key], {});\n",
       "          if (!dataTable) return;\n",
       "\n",
       "          const docLinkHtml = 'Like what you see? Visit the ' +\n",
       "            '<a target=\"_blank\" href=https://colab.research.google.com/notebooks/data_table.ipynb>data table notebook</a>'\n",
       "            + ' to learn more about interactive tables.';\n",
       "          element.innerHTML = '';\n",
       "          dataTable['output_type'] = 'display_data';\n",
       "          await google.colab.output.renderOutput(dataTable, element);\n",
       "          const docLink = document.createElement('div');\n",
       "          docLink.innerHTML = docLinkHtml;\n",
       "          element.appendChild(docLink);\n",
       "        }\n",
       "      </script>\n",
       "    </div>\n",
       "  </div>\n",
       "  "
      ],
      "text/plain": [
       "   Company_Key Quarter_details  Year filing_type  \\\n",
       "0      1126956            QTR4  2011        10-K   \n",
       "1      1126956            QTR4  2011        10-K   \n",
       "\n",
       "                                   Text_data_cleaned  operation_percentage  \\\n",
       "0  0001126956 000074 20111121 lacledegroupform10 ...              0.015983   \n",
       "1  0001126956 000075 20111121 lacledegasfor10 k20...              0.019980   \n",
       "\n",
       "   negative_percentage  credit_percentage       compamy_name  \n",
       "0             0.018151           0.001653  LACLEDE GROUP INC  \n",
       "1             0.017551           0.001041     LACLEDE GAS CO  "
      ]
     },
     "execution_count": 261,
     "metadata": {},
     "output_type": "execute_result"
    }
   ],
   "source": [
    "df_final.head(2)"
   ]
  },
  {
   "cell_type": "code",
   "execution_count": 263,
   "metadata": {
    "colab": {
     "base_uri": "https://localhost:8080/",
     "height": 337
    },
    "executionInfo": {
     "elapsed": 235,
     "status": "ok",
     "timestamp": 1665325867848,
     "user": {
      "displayName": "Chaitanya Madduri",
      "userId": "05909831547153523272"
     },
     "user_tz": -120
    },
    "id": "x67wIsCoDzPp",
    "outputId": "ba09837c-4716-4407-c8b4-2ada778604c6"
   },
   "outputs": [
    {
     "data": {
      "text/html": [
       "\n",
       "  <div id=\"df-253d0541-381c-4f99-b1f3-6049abaa4b13\">\n",
       "    <div class=\"colab-df-container\">\n",
       "      <div>\n",
       "<style scoped>\n",
       "    .dataframe tbody tr th:only-of-type {\n",
       "        vertical-align: middle;\n",
       "    }\n",
       "\n",
       "    .dataframe tbody tr th {\n",
       "        vertical-align: top;\n",
       "    }\n",
       "\n",
       "    .dataframe thead th {\n",
       "        text-align: right;\n",
       "    }\n",
       "</style>\n",
       "<table border=\"1\" class=\"dataframe\">\n",
       "  <thead>\n",
       "    <tr style=\"text-align: right;\">\n",
       "      <th></th>\n",
       "      <th>Company_Key</th>\n",
       "      <th>Quarter_details</th>\n",
       "      <th>Year</th>\n",
       "      <th>filing_type</th>\n",
       "      <th>Text_data_cleaned</th>\n",
       "      <th>operation_percentage</th>\n",
       "      <th>negative_percentage</th>\n",
       "      <th>credit_percentage</th>\n",
       "      <th>compamy_name</th>\n",
       "    </tr>\n",
       "  </thead>\n",
       "  <tbody>\n",
       "    <tr>\n",
       "      <th>76</th>\n",
       "      <td>4904</td>\n",
       "      <td>QTR1</td>\n",
       "      <td>2015</td>\n",
       "      <td>10-K</td>\n",
       "      <td>0000004904 000008 20150220 ye14aep10k american...</td>\n",
       "      <td>0.014946</td>\n",
       "      <td>0.018254</td>\n",
       "      <td>0.001718</td>\n",
       "      <td>AMERICAN ELECTRIC POWER CO INC</td>\n",
       "    </tr>\n",
       "    <tr>\n",
       "      <th>303</th>\n",
       "      <td>4904</td>\n",
       "      <td>QTR1</td>\n",
       "      <td>2019</td>\n",
       "      <td>10-K</td>\n",
       "      <td>0000004904 000009 20190221 aep10klegal20184q a...</td>\n",
       "      <td>0.017938</td>\n",
       "      <td>0.019350</td>\n",
       "      <td>0.001211</td>\n",
       "      <td>AMERICAN ELECTRIC POWER CO INC</td>\n",
       "    </tr>\n",
       "    <tr>\n",
       "      <th>63</th>\n",
       "      <td>4904</td>\n",
       "      <td>QTR1</td>\n",
       "      <td>2011</td>\n",
       "      <td>10-K</td>\n",
       "      <td>nproc type 2001 clear norigin name webmast nor...</td>\n",
       "      <td>0.018130</td>\n",
       "      <td>0.018303</td>\n",
       "      <td>0.001066</td>\n",
       "      <td>OHIO POWER CO</td>\n",
       "    </tr>\n",
       "    <tr>\n",
       "      <th>65</th>\n",
       "      <td>4904</td>\n",
       "      <td>QTR1</td>\n",
       "      <td>2011</td>\n",
       "      <td>10-K</td>\n",
       "      <td>nproc type 2001 clear norigin name webmast nor...</td>\n",
       "      <td>0.018127</td>\n",
       "      <td>0.018300</td>\n",
       "      <td>0.001066</td>\n",
       "      <td>SOUTHWESTERN ELECTRIC POWER CO</td>\n",
       "    </tr>\n",
       "    <tr>\n",
       "      <th>74</th>\n",
       "      <td>4904</td>\n",
       "      <td>QTR1</td>\n",
       "      <td>2014</td>\n",
       "      <td>10-K</td>\n",
       "      <td>0000004904 000037 20140328 opcopirfunding20131...</td>\n",
       "      <td>0.015173</td>\n",
       "      <td>0.008875</td>\n",
       "      <td>0.002863</td>\n",
       "      <td>OHIO PHASE-IN-RECOVERY FUNDING LLC</td>\n",
       "    </tr>\n",
       "  </tbody>\n",
       "</table>\n",
       "</div>\n",
       "      <button class=\"colab-df-convert\" onclick=\"convertToInteractive('df-253d0541-381c-4f99-b1f3-6049abaa4b13')\"\n",
       "              title=\"Convert this dataframe to an interactive table.\"\n",
       "              style=\"display:none;\">\n",
       "        \n",
       "  <svg xmlns=\"http://www.w3.org/2000/svg\" height=\"24px\"viewBox=\"0 0 24 24\"\n",
       "       width=\"24px\">\n",
       "    <path d=\"M0 0h24v24H0V0z\" fill=\"none\"/>\n",
       "    <path d=\"M18.56 5.44l.94 2.06.94-2.06 2.06-.94-2.06-.94-.94-2.06-.94 2.06-2.06.94zm-11 1L8.5 8.5l.94-2.06 2.06-.94-2.06-.94L8.5 2.5l-.94 2.06-2.06.94zm10 10l.94 2.06.94-2.06 2.06-.94-2.06-.94-.94-2.06-.94 2.06-2.06.94z\"/><path d=\"M17.41 7.96l-1.37-1.37c-.4-.4-.92-.59-1.43-.59-.52 0-1.04.2-1.43.59L10.3 9.45l-7.72 7.72c-.78.78-.78 2.05 0 2.83L4 21.41c.39.39.9.59 1.41.59.51 0 1.02-.2 1.41-.59l7.78-7.78 2.81-2.81c.8-.78.8-2.07 0-2.86zM5.41 20L4 18.59l7.72-7.72 1.47 1.35L5.41 20z\"/>\n",
       "  </svg>\n",
       "      </button>\n",
       "      \n",
       "  <style>\n",
       "    .colab-df-container {\n",
       "      display:flex;\n",
       "      flex-wrap:wrap;\n",
       "      gap: 12px;\n",
       "    }\n",
       "\n",
       "    .colab-df-convert {\n",
       "      background-color: #E8F0FE;\n",
       "      border: none;\n",
       "      border-radius: 50%;\n",
       "      cursor: pointer;\n",
       "      display: none;\n",
       "      fill: #1967D2;\n",
       "      height: 32px;\n",
       "      padding: 0 0 0 0;\n",
       "      width: 32px;\n",
       "    }\n",
       "\n",
       "    .colab-df-convert:hover {\n",
       "      background-color: #E2EBFA;\n",
       "      box-shadow: 0px 1px 2px rgba(60, 64, 67, 0.3), 0px 1px 3px 1px rgba(60, 64, 67, 0.15);\n",
       "      fill: #174EA6;\n",
       "    }\n",
       "\n",
       "    [theme=dark] .colab-df-convert {\n",
       "      background-color: #3B4455;\n",
       "      fill: #D2E3FC;\n",
       "    }\n",
       "\n",
       "    [theme=dark] .colab-df-convert:hover {\n",
       "      background-color: #434B5C;\n",
       "      box-shadow: 0px 1px 3px 1px rgba(0, 0, 0, 0.15);\n",
       "      filter: drop-shadow(0px 1px 2px rgba(0, 0, 0, 0.3));\n",
       "      fill: #FFFFFF;\n",
       "    }\n",
       "  </style>\n",
       "\n",
       "      <script>\n",
       "        const buttonEl =\n",
       "          document.querySelector('#df-253d0541-381c-4f99-b1f3-6049abaa4b13 button.colab-df-convert');\n",
       "        buttonEl.style.display =\n",
       "          google.colab.kernel.accessAllowed ? 'block' : 'none';\n",
       "\n",
       "        async function convertToInteractive(key) {\n",
       "          const element = document.querySelector('#df-253d0541-381c-4f99-b1f3-6049abaa4b13');\n",
       "          const dataTable =\n",
       "            await google.colab.kernel.invokeFunction('convertToInteractive',\n",
       "                                                     [key], {});\n",
       "          if (!dataTable) return;\n",
       "\n",
       "          const docLinkHtml = 'Like what you see? Visit the ' +\n",
       "            '<a target=\"_blank\" href=https://colab.research.google.com/notebooks/data_table.ipynb>data table notebook</a>'\n",
       "            + ' to learn more about interactive tables.';\n",
       "          element.innerHTML = '';\n",
       "          dataTable['output_type'] = 'display_data';\n",
       "          await google.colab.output.renderOutput(dataTable, element);\n",
       "          const docLink = document.createElement('div');\n",
       "          docLink.innerHTML = docLinkHtml;\n",
       "          element.appendChild(docLink);\n",
       "        }\n",
       "      </script>\n",
       "    </div>\n",
       "  </div>\n",
       "  "
      ],
      "text/plain": [
       "     Company_Key Quarter_details  Year filing_type  \\\n",
       "76          4904            QTR1  2015        10-K   \n",
       "303         4904            QTR1  2019        10-K   \n",
       "63          4904            QTR1  2011        10-K   \n",
       "65          4904            QTR1  2011        10-K   \n",
       "74          4904            QTR1  2014        10-K   \n",
       "\n",
       "                                     Text_data_cleaned  operation_percentage  \\\n",
       "76   0000004904 000008 20150220 ye14aep10k american...              0.014946   \n",
       "303  0000004904 000009 20190221 aep10klegal20184q a...              0.017938   \n",
       "63   nproc type 2001 clear norigin name webmast nor...              0.018130   \n",
       "65   nproc type 2001 clear norigin name webmast nor...              0.018127   \n",
       "74   0000004904 000037 20140328 opcopirfunding20131...              0.015173   \n",
       "\n",
       "     negative_percentage  credit_percentage  \\\n",
       "76              0.018254           0.001718   \n",
       "303             0.019350           0.001211   \n",
       "63              0.018303           0.001066   \n",
       "65              0.018300           0.001066   \n",
       "74              0.008875           0.002863   \n",
       "\n",
       "                           compamy_name  \n",
       "76       AMERICAN ELECTRIC POWER CO INC  \n",
       "303      AMERICAN ELECTRIC POWER CO INC  \n",
       "63                        OHIO POWER CO  \n",
       "65       SOUTHWESTERN ELECTRIC POWER CO  \n",
       "74   OHIO PHASE-IN-RECOVERY FUNDING LLC  "
      ]
     },
     "execution_count": 263,
     "metadata": {},
     "output_type": "execute_result"
    }
   ],
   "source": [
    "df_final[df_final['Company_Key']==4904].sample(5)"
   ]
  },
  {
   "cell_type": "code",
   "execution_count": null,
   "metadata": {
    "id": "wui_sySUDzMR"
   },
   "outputs": [],
   "source": []
  },
  {
   "cell_type": "code",
   "execution_count": 264,
   "metadata": {
    "executionInfo": {
     "elapsed": 1064,
     "status": "ok",
     "timestamp": 1665325870865,
     "user": {
      "displayName": "Chaitanya Madduri",
      "userId": "05909831547153523272"
     },
     "user_tz": -120
    },
    "id": "PIWTcjmruN85"
   },
   "outputs": [],
   "source": [
    "df_final.drop_duplicates(inplace=True)"
   ]
  },
  {
   "cell_type": "code",
   "execution_count": 265,
   "metadata": {
    "colab": {
     "base_uri": "https://localhost:8080/"
    },
    "executionInfo": {
     "elapsed": 3,
     "status": "ok",
     "timestamp": 1665325870866,
     "user": {
      "displayName": "Chaitanya Madduri",
      "userId": "05909831547153523272"
     },
     "user_tz": -120
    },
    "id": "zAu_wG4XD2e5",
    "outputId": "8fd55b08-b28a-407c-e5f6-d3282d6ec9f4"
   },
   "outputs": [
    {
     "data": {
      "text/plain": [
       "(830, 9)"
      ]
     },
     "execution_count": 265,
     "metadata": {},
     "output_type": "execute_result"
    }
   ],
   "source": [
    "df_final.shape"
   ]
  },
  {
   "cell_type": "code",
   "execution_count": 12,
   "metadata": {
    "executionInfo": {
     "elapsed": 2125,
     "status": "ok",
     "timestamp": 1665307504056,
     "user": {
      "displayName": "Chaitanya Madduri",
      "userId": "05909831547153523272"
     },
     "user_tz": -120
    },
    "id": "3EI5g8-QD2bX"
   },
   "outputs": [],
   "source": [
    "# DIR_PATH = \"/content/drive/MyDrive/SPM_files/\"\n",
    "# df_final_2 = pd.read_csv(DIR_PATH + \"df_msiing_cleaned.csv\")"
   ]
  },
  {
   "cell_type": "code",
   "execution_count": 13,
   "metadata": {
    "colab": {
     "base_uri": "https://localhost:8080/"
    },
    "executionInfo": {
     "elapsed": 9,
     "status": "ok",
     "timestamp": 1665307508281,
     "user": {
      "displayName": "Chaitanya Madduri",
      "userId": "05909831547153523272"
     },
     "user_tz": -120
    },
    "id": "cb5e61FeD9Yv",
    "outputId": "05ef371f-fbd3-40a2-b4ca-af14f82199e5"
   },
   "outputs": [
    {
     "data": {
      "text/plain": [
       "(232, 8)"
      ]
     },
     "execution_count": 13,
     "metadata": {},
     "output_type": "execute_result"
    }
   ],
   "source": [
    "# df_final_2.shape"
   ]
  },
  {
   "cell_type": "code",
   "execution_count": 19,
   "metadata": {
    "executionInfo": {
     "elapsed": 4,
     "status": "ok",
     "timestamp": 1665307740725,
     "user": {
      "displayName": "Chaitanya Madduri",
      "userId": "05909831547153523272"
     },
     "user_tz": -120
    },
    "id": "qAaSMyiKEocx"
   },
   "outputs": [],
   "source": [
    "# df_final_2.rename(columns={'year':'Year','company':'compamy_name'}, inplace=True)"
   ]
  },
  {
   "cell_type": "code",
   "execution_count": 20,
   "metadata": {
    "executionInfo": {
     "elapsed": 294,
     "status": "ok",
     "timestamp": 1665307744612,
     "user": {
      "displayName": "Chaitanya Madduri",
      "userId": "05909831547153523272"
     },
     "user_tz": -120
    },
    "id": "GI5Aa5mTD9Vh"
   },
   "outputs": [],
   "source": [
    "# df_final_4 = pd.concat([df_final,df_final_2])"
   ]
  },
  {
   "cell_type": "code",
   "execution_count": 21,
   "metadata": {
    "colab": {
     "base_uri": "https://localhost:8080/"
    },
    "executionInfo": {
     "elapsed": 4,
     "status": "ok",
     "timestamp": 1665307745447,
     "user": {
      "displayName": "Chaitanya Madduri",
      "userId": "05909831547153523272"
     },
     "user_tz": -120
    },
    "id": "jGkZebsgD9Ro",
    "outputId": "23b69611-3910-4f98-a662-4c33454b0c3b"
   },
   "outputs": [
    {
     "data": {
      "text/plain": [
       "(830, 11)"
      ]
     },
     "execution_count": 21,
     "metadata": {},
     "output_type": "execute_result"
    }
   ],
   "source": [
    "# df_final_4.shape"
   ]
  },
  {
   "cell_type": "code",
   "execution_count": 144,
   "metadata": {
    "executionInfo": {
     "elapsed": 399,
     "status": "ok",
     "timestamp": 1665315984183,
     "user": {
      "displayName": "Chaitanya Madduri",
      "userId": "05909831547153523272"
     },
     "user_tz": -120
    },
    "id": "GyoCQSGYEKpM"
   },
   "outputs": [],
   "source": [
    "# df_final_4.drop_duplicates()"
   ]
  },
  {
   "cell_type": "code",
   "execution_count": 25,
   "metadata": {
    "executionInfo": {
     "elapsed": 9498,
     "status": "ok",
     "timestamp": 1665307840618,
     "user": {
      "displayName": "Chaitanya Madduri",
      "userId": "05909831547153523272"
     },
     "user_tz": -120
    },
    "id": "lUPW0W1KEKlq"
   },
   "outputs": [],
   "source": [
    "# df_final_4[['Company_Key', 'Quarter_details', 'Year', 'filing_type',\n",
    "#        'Text_data_cleaned', 'operation_percentage', 'negative_percentage',\n",
    "#        'credit_percentage', 'compamy_name']].to_csv(DIR_PATH + \"final_df_v2.csv\", index=None)\n",
    "\n"
   ]
  },
  {
   "cell_type": "code",
   "execution_count": 99,
   "metadata": {
    "executionInfo": {
     "elapsed": 311,
     "status": "ok",
     "timestamp": 1665314223490,
     "user": {
      "displayName": "Chaitanya Madduri",
      "userId": "05909831547153523272"
     },
     "user_tz": -120
    },
    "id": "09gTqX5oE_uR"
   },
   "outputs": [],
   "source": [
    "# df_final_4 = df_final_4[['Company_Key', 'Quarter_details', 'Year', 'filing_type',\n",
    "#        'Text_data_cleaned', 'operation_percentage', 'negative_percentage',\n",
    "#        'credit_percentage', 'compamy_name']]"
   ]
  },
  {
   "cell_type": "code",
   "execution_count": 266,
   "metadata": {
    "colab": {
     "base_uri": "https://localhost:8080/",
     "height": 191
    },
    "executionInfo": {
     "elapsed": 267,
     "status": "ok",
     "timestamp": 1665325874258,
     "user": {
      "displayName": "Chaitanya Madduri",
      "userId": "05909831547153523272"
     },
     "user_tz": -120
    },
    "id": "RmF3eXpivv19",
    "outputId": "9f7e81b9-a74f-40aa-8930-7d5599023539"
   },
   "outputs": [
    {
     "data": {
      "text/html": [
       "\n",
       "  <div id=\"df-7308cf50-0ba0-40bf-bcbc-eca1b7595c14\">\n",
       "    <div class=\"colab-df-container\">\n",
       "      <div>\n",
       "<style scoped>\n",
       "    .dataframe tbody tr th:only-of-type {\n",
       "        vertical-align: middle;\n",
       "    }\n",
       "\n",
       "    .dataframe tbody tr th {\n",
       "        vertical-align: top;\n",
       "    }\n",
       "\n",
       "    .dataframe thead th {\n",
       "        text-align: right;\n",
       "    }\n",
       "</style>\n",
       "<table border=\"1\" class=\"dataframe\">\n",
       "  <thead>\n",
       "    <tr style=\"text-align: right;\">\n",
       "      <th></th>\n",
       "      <th>Company_Key</th>\n",
       "      <th>year</th>\n",
       "      <th>profitability</th>\n",
       "      <th>Company_Name</th>\n",
       "      <th>profitability_next_1</th>\n",
       "      <th>profitability_next_2</th>\n",
       "      <th>profitability_next_3</th>\n",
       "      <th>change_next_1</th>\n",
       "      <th>change_next_2</th>\n",
       "      <th>change_next_3</th>\n",
       "    </tr>\n",
       "  </thead>\n",
       "  <tbody>\n",
       "    <tr>\n",
       "      <th>0</th>\n",
       "      <td>764622</td>\n",
       "      <td>2011</td>\n",
       "      <td>0.0561</td>\n",
       "      <td>PINNACLE WEST CAPITAL CORP</td>\n",
       "      <td>0.0707</td>\n",
       "      <td>0.0621</td>\n",
       "      <td>0.0519</td>\n",
       "      <td>25.88</td>\n",
       "      <td>10.69</td>\n",
       "      <td>-7.51</td>\n",
       "    </tr>\n",
       "    <tr>\n",
       "      <th>1</th>\n",
       "      <td>764622</td>\n",
       "      <td>2012</td>\n",
       "      <td>0.0707</td>\n",
       "      <td>PINNACLE WEST CAPITAL CORP</td>\n",
       "      <td>0.0621</td>\n",
       "      <td>0.0519</td>\n",
       "      <td>0.0753</td>\n",
       "      <td>-12.07</td>\n",
       "      <td>-26.53</td>\n",
       "      <td>6.59</td>\n",
       "    </tr>\n",
       "  </tbody>\n",
       "</table>\n",
       "</div>\n",
       "      <button class=\"colab-df-convert\" onclick=\"convertToInteractive('df-7308cf50-0ba0-40bf-bcbc-eca1b7595c14')\"\n",
       "              title=\"Convert this dataframe to an interactive table.\"\n",
       "              style=\"display:none;\">\n",
       "        \n",
       "  <svg xmlns=\"http://www.w3.org/2000/svg\" height=\"24px\"viewBox=\"0 0 24 24\"\n",
       "       width=\"24px\">\n",
       "    <path d=\"M0 0h24v24H0V0z\" fill=\"none\"/>\n",
       "    <path d=\"M18.56 5.44l.94 2.06.94-2.06 2.06-.94-2.06-.94-.94-2.06-.94 2.06-2.06.94zm-11 1L8.5 8.5l.94-2.06 2.06-.94-2.06-.94L8.5 2.5l-.94 2.06-2.06.94zm10 10l.94 2.06.94-2.06 2.06-.94-2.06-.94-.94-2.06-.94 2.06-2.06.94z\"/><path d=\"M17.41 7.96l-1.37-1.37c-.4-.4-.92-.59-1.43-.59-.52 0-1.04.2-1.43.59L10.3 9.45l-7.72 7.72c-.78.78-.78 2.05 0 2.83L4 21.41c.39.39.9.59 1.41.59.51 0 1.02-.2 1.41-.59l7.78-7.78 2.81-2.81c.8-.78.8-2.07 0-2.86zM5.41 20L4 18.59l7.72-7.72 1.47 1.35L5.41 20z\"/>\n",
       "  </svg>\n",
       "      </button>\n",
       "      \n",
       "  <style>\n",
       "    .colab-df-container {\n",
       "      display:flex;\n",
       "      flex-wrap:wrap;\n",
       "      gap: 12px;\n",
       "    }\n",
       "\n",
       "    .colab-df-convert {\n",
       "      background-color: #E8F0FE;\n",
       "      border: none;\n",
       "      border-radius: 50%;\n",
       "      cursor: pointer;\n",
       "      display: none;\n",
       "      fill: #1967D2;\n",
       "      height: 32px;\n",
       "      padding: 0 0 0 0;\n",
       "      width: 32px;\n",
       "    }\n",
       "\n",
       "    .colab-df-convert:hover {\n",
       "      background-color: #E2EBFA;\n",
       "      box-shadow: 0px 1px 2px rgba(60, 64, 67, 0.3), 0px 1px 3px 1px rgba(60, 64, 67, 0.15);\n",
       "      fill: #174EA6;\n",
       "    }\n",
       "\n",
       "    [theme=dark] .colab-df-convert {\n",
       "      background-color: #3B4455;\n",
       "      fill: #D2E3FC;\n",
       "    }\n",
       "\n",
       "    [theme=dark] .colab-df-convert:hover {\n",
       "      background-color: #434B5C;\n",
       "      box-shadow: 0px 1px 3px 1px rgba(0, 0, 0, 0.15);\n",
       "      filter: drop-shadow(0px 1px 2px rgba(0, 0, 0, 0.3));\n",
       "      fill: #FFFFFF;\n",
       "    }\n",
       "  </style>\n",
       "\n",
       "      <script>\n",
       "        const buttonEl =\n",
       "          document.querySelector('#df-7308cf50-0ba0-40bf-bcbc-eca1b7595c14 button.colab-df-convert');\n",
       "        buttonEl.style.display =\n",
       "          google.colab.kernel.accessAllowed ? 'block' : 'none';\n",
       "\n",
       "        async function convertToInteractive(key) {\n",
       "          const element = document.querySelector('#df-7308cf50-0ba0-40bf-bcbc-eca1b7595c14');\n",
       "          const dataTable =\n",
       "            await google.colab.kernel.invokeFunction('convertToInteractive',\n",
       "                                                     [key], {});\n",
       "          if (!dataTable) return;\n",
       "\n",
       "          const docLinkHtml = 'Like what you see? Visit the ' +\n",
       "            '<a target=\"_blank\" href=https://colab.research.google.com/notebooks/data_table.ipynb>data table notebook</a>'\n",
       "            + ' to learn more about interactive tables.';\n",
       "          element.innerHTML = '';\n",
       "          dataTable['output_type'] = 'display_data';\n",
       "          await google.colab.output.renderOutput(dataTable, element);\n",
       "          const docLink = document.createElement('div');\n",
       "          docLink.innerHTML = docLinkHtml;\n",
       "          element.appendChild(docLink);\n",
       "        }\n",
       "      </script>\n",
       "    </div>\n",
       "  </div>\n",
       "  "
      ],
      "text/plain": [
       "   Company_Key  year  profitability                Company_Name  \\\n",
       "0       764622  2011         0.0561  PINNACLE WEST CAPITAL CORP   \n",
       "1       764622  2012         0.0707  PINNACLE WEST CAPITAL CORP   \n",
       "\n",
       "   profitability_next_1  profitability_next_2  profitability_next_3  \\\n",
       "0                0.0707                0.0621                0.0519   \n",
       "1                0.0621                0.0519                0.0753   \n",
       "\n",
       "   change_next_1  change_next_2  change_next_3  \n",
       "0          25.88          10.69          -7.51  \n",
       "1         -12.07         -26.53           6.59  "
      ]
     },
     "execution_count": 266,
     "metadata": {},
     "output_type": "execute_result"
    }
   ],
   "source": [
    "df.head(2)"
   ]
  },
  {
   "cell_type": "code",
   "execution_count": 103,
   "metadata": {
    "executionInfo": {
     "elapsed": 222,
     "status": "ok",
     "timestamp": 1665314245861,
     "user": {
      "displayName": "Chaitanya Madduri",
      "userId": "05909831547153523272"
     },
     "user_tz": -120
    },
    "id": "kvSvJRzgv4MM"
   },
   "outputs": [],
   "source": [
    "# df.drop(['Unnamed: 0'], axis=1, inplace=True)"
   ]
  },
  {
   "cell_type": "code",
   "execution_count": 267,
   "metadata": {
    "colab": {
     "base_uri": "https://localhost:8080/"
    },
    "executionInfo": {
     "elapsed": 3,
     "status": "ok",
     "timestamp": 1665325875159,
     "user": {
      "displayName": "Chaitanya Madduri",
      "userId": "05909831547153523272"
     },
     "user_tz": -120
    },
    "id": "doLQHaxzvy_m",
    "outputId": "23942551-aaa5-45e6-f7c5-4c024e6a2ed4"
   },
   "outputs": [
    {
     "data": {
      "text/plain": [
       "Index(['Company_Key', 'Quarter_details', 'Year', 'filing_type',\n",
       "       'Text_data_cleaned', 'operation_percentage', 'negative_percentage',\n",
       "       'credit_percentage', 'compamy_name'],\n",
       "      dtype='object')"
      ]
     },
     "execution_count": 267,
     "metadata": {},
     "output_type": "execute_result"
    }
   ],
   "source": [
    "df_final.columns"
   ]
  },
  {
   "cell_type": "code",
   "execution_count": 268,
   "metadata": {
    "executionInfo": {
     "elapsed": 548,
     "status": "ok",
     "timestamp": 1665325878246,
     "user": {
      "displayName": "Chaitanya Madduri",
      "userId": "05909831547153523272"
     },
     "user_tz": -120
    },
    "id": "6nXATqxlvtdj"
   },
   "outputs": [],
   "source": [
    "df3 = df_final.merge(df, left_on=['Company_Key','Year'] , right_on= ['Company_Key',  'year'])"
   ]
  },
  {
   "cell_type": "code",
   "execution_count": 269,
   "metadata": {
    "colab": {
     "base_uri": "https://localhost:8080/",
     "height": 280
    },
    "executionInfo": {
     "elapsed": 5,
     "status": "ok",
     "timestamp": 1665325878943,
     "user": {
      "displayName": "Chaitanya Madduri",
      "userId": "05909831547153523272"
     },
     "user_tz": -120
    },
    "id": "WUknJLCqvta8",
    "outputId": "8f4c371a-211a-4949-c41f-93ac8bb83e58"
   },
   "outputs": [
    {
     "data": {
      "text/html": [
       "\n",
       "  <div id=\"df-f751a535-457c-488c-bd9a-b1f6f3ea801e\">\n",
       "    <div class=\"colab-df-container\">\n",
       "      <div>\n",
       "<style scoped>\n",
       "    .dataframe tbody tr th:only-of-type {\n",
       "        vertical-align: middle;\n",
       "    }\n",
       "\n",
       "    .dataframe tbody tr th {\n",
       "        vertical-align: top;\n",
       "    }\n",
       "\n",
       "    .dataframe thead th {\n",
       "        text-align: right;\n",
       "    }\n",
       "</style>\n",
       "<table border=\"1\" class=\"dataframe\">\n",
       "  <thead>\n",
       "    <tr style=\"text-align: right;\">\n",
       "      <th></th>\n",
       "      <th>Company_Key</th>\n",
       "      <th>Quarter_details</th>\n",
       "      <th>Year</th>\n",
       "      <th>filing_type</th>\n",
       "      <th>Text_data_cleaned</th>\n",
       "      <th>operation_percentage</th>\n",
       "      <th>negative_percentage</th>\n",
       "      <th>credit_percentage</th>\n",
       "      <th>compamy_name</th>\n",
       "      <th>year</th>\n",
       "      <th>profitability</th>\n",
       "      <th>Company_Name</th>\n",
       "      <th>profitability_next_1</th>\n",
       "      <th>profitability_next_2</th>\n",
       "      <th>profitability_next_3</th>\n",
       "      <th>change_next_1</th>\n",
       "      <th>change_next_2</th>\n",
       "      <th>change_next_3</th>\n",
       "    </tr>\n",
       "  </thead>\n",
       "  <tbody>\n",
       "    <tr>\n",
       "      <th>30</th>\n",
       "      <td>1130464</td>\n",
       "      <td>QTR1</td>\n",
       "      <td>2013</td>\n",
       "      <td>10-K</td>\n",
       "      <td>0001130464 000071 20130225 bkh10k12312012 nbkh...</td>\n",
       "      <td>0.015401</td>\n",
       "      <td>0.021891</td>\n",
       "      <td>0.004067</td>\n",
       "      <td>BLACK HILLS CORP /SD/</td>\n",
       "      <td>2013</td>\n",
       "      <td>0.0231</td>\n",
       "      <td>BLACK HILLS CORP /SD/</td>\n",
       "      <td>0.0145</td>\n",
       "      <td>-0.0097</td>\n",
       "      <td>0.0335</td>\n",
       "      <td>-37.07</td>\n",
       "      <td>-141.87</td>\n",
       "      <td>45.16</td>\n",
       "    </tr>\n",
       "    <tr>\n",
       "      <th>460</th>\n",
       "      <td>1368265</td>\n",
       "      <td>NaN</td>\n",
       "      <td>2012</td>\n",
       "      <td>NaN</td>\n",
       "      <td>0001047469 002470 20120312 a2207799z10 nunit s...</td>\n",
       "      <td>0.007406</td>\n",
       "      <td>NaN</td>\n",
       "      <td>0.001678</td>\n",
       "      <td>CLEAN ENERGY FUELS CORP</td>\n",
       "      <td>2012</td>\n",
       "      <td>-0.2870</td>\n",
       "      <td>CLEAN ENERGY FUELS CORP.</td>\n",
       "      <td>-0.1988</td>\n",
       "      <td>-4.2728</td>\n",
       "      <td>-0.0642</td>\n",
       "      <td>-30.71</td>\n",
       "      <td>1388.92</td>\n",
       "      <td>-77.64</td>\n",
       "    </tr>\n",
       "  </tbody>\n",
       "</table>\n",
       "</div>\n",
       "      <button class=\"colab-df-convert\" onclick=\"convertToInteractive('df-f751a535-457c-488c-bd9a-b1f6f3ea801e')\"\n",
       "              title=\"Convert this dataframe to an interactive table.\"\n",
       "              style=\"display:none;\">\n",
       "        \n",
       "  <svg xmlns=\"http://www.w3.org/2000/svg\" height=\"24px\"viewBox=\"0 0 24 24\"\n",
       "       width=\"24px\">\n",
       "    <path d=\"M0 0h24v24H0V0z\" fill=\"none\"/>\n",
       "    <path d=\"M18.56 5.44l.94 2.06.94-2.06 2.06-.94-2.06-.94-.94-2.06-.94 2.06-2.06.94zm-11 1L8.5 8.5l.94-2.06 2.06-.94-2.06-.94L8.5 2.5l-.94 2.06-2.06.94zm10 10l.94 2.06.94-2.06 2.06-.94-2.06-.94-.94-2.06-.94 2.06-2.06.94z\"/><path d=\"M17.41 7.96l-1.37-1.37c-.4-.4-.92-.59-1.43-.59-.52 0-1.04.2-1.43.59L10.3 9.45l-7.72 7.72c-.78.78-.78 2.05 0 2.83L4 21.41c.39.39.9.59 1.41.59.51 0 1.02-.2 1.41-.59l7.78-7.78 2.81-2.81c.8-.78.8-2.07 0-2.86zM5.41 20L4 18.59l7.72-7.72 1.47 1.35L5.41 20z\"/>\n",
       "  </svg>\n",
       "      </button>\n",
       "      \n",
       "  <style>\n",
       "    .colab-df-container {\n",
       "      display:flex;\n",
       "      flex-wrap:wrap;\n",
       "      gap: 12px;\n",
       "    }\n",
       "\n",
       "    .colab-df-convert {\n",
       "      background-color: #E8F0FE;\n",
       "      border: none;\n",
       "      border-radius: 50%;\n",
       "      cursor: pointer;\n",
       "      display: none;\n",
       "      fill: #1967D2;\n",
       "      height: 32px;\n",
       "      padding: 0 0 0 0;\n",
       "      width: 32px;\n",
       "    }\n",
       "\n",
       "    .colab-df-convert:hover {\n",
       "      background-color: #E2EBFA;\n",
       "      box-shadow: 0px 1px 2px rgba(60, 64, 67, 0.3), 0px 1px 3px 1px rgba(60, 64, 67, 0.15);\n",
       "      fill: #174EA6;\n",
       "    }\n",
       "\n",
       "    [theme=dark] .colab-df-convert {\n",
       "      background-color: #3B4455;\n",
       "      fill: #D2E3FC;\n",
       "    }\n",
       "\n",
       "    [theme=dark] .colab-df-convert:hover {\n",
       "      background-color: #434B5C;\n",
       "      box-shadow: 0px 1px 3px 1px rgba(0, 0, 0, 0.15);\n",
       "      filter: drop-shadow(0px 1px 2px rgba(0, 0, 0, 0.3));\n",
       "      fill: #FFFFFF;\n",
       "    }\n",
       "  </style>\n",
       "\n",
       "      <script>\n",
       "        const buttonEl =\n",
       "          document.querySelector('#df-f751a535-457c-488c-bd9a-b1f6f3ea801e button.colab-df-convert');\n",
       "        buttonEl.style.display =\n",
       "          google.colab.kernel.accessAllowed ? 'block' : 'none';\n",
       "\n",
       "        async function convertToInteractive(key) {\n",
       "          const element = document.querySelector('#df-f751a535-457c-488c-bd9a-b1f6f3ea801e');\n",
       "          const dataTable =\n",
       "            await google.colab.kernel.invokeFunction('convertToInteractive',\n",
       "                                                     [key], {});\n",
       "          if (!dataTable) return;\n",
       "\n",
       "          const docLinkHtml = 'Like what you see? Visit the ' +\n",
       "            '<a target=\"_blank\" href=https://colab.research.google.com/notebooks/data_table.ipynb>data table notebook</a>'\n",
       "            + ' to learn more about interactive tables.';\n",
       "          element.innerHTML = '';\n",
       "          dataTable['output_type'] = 'display_data';\n",
       "          await google.colab.output.renderOutput(dataTable, element);\n",
       "          const docLink = document.createElement('div');\n",
       "          docLink.innerHTML = docLinkHtml;\n",
       "          element.appendChild(docLink);\n",
       "        }\n",
       "      </script>\n",
       "    </div>\n",
       "  </div>\n",
       "  "
      ],
      "text/plain": [
       "     Company_Key Quarter_details  Year filing_type  \\\n",
       "30       1130464            QTR1  2013        10-K   \n",
       "460      1368265             NaN  2012         NaN   \n",
       "\n",
       "                                     Text_data_cleaned  operation_percentage  \\\n",
       "30   0001130464 000071 20130225 bkh10k12312012 nbkh...              0.015401   \n",
       "460  0001047469 002470 20120312 a2207799z10 nunit s...              0.007406   \n",
       "\n",
       "     negative_percentage  credit_percentage             compamy_name  year  \\\n",
       "30              0.021891           0.004067    BLACK HILLS CORP /SD/  2013   \n",
       "460                  NaN           0.001678  CLEAN ENERGY FUELS CORP  2012   \n",
       "\n",
       "     profitability              Company_Name  profitability_next_1  \\\n",
       "30          0.0231     BLACK HILLS CORP /SD/                0.0145   \n",
       "460        -0.2870  CLEAN ENERGY FUELS CORP.               -0.1988   \n",
       "\n",
       "     profitability_next_2  profitability_next_3  change_next_1  change_next_2  \\\n",
       "30                -0.0097                0.0335         -37.07        -141.87   \n",
       "460               -4.2728               -0.0642         -30.71        1388.92   \n",
       "\n",
       "     change_next_3  \n",
       "30           45.16  \n",
       "460         -77.64  "
      ]
     },
     "execution_count": 269,
     "metadata": {},
     "output_type": "execute_result"
    }
   ],
   "source": [
    "df3.sample(2)"
   ]
  },
  {
   "cell_type": "code",
   "execution_count": 270,
   "metadata": {
    "executionInfo": {
     "elapsed": 215,
     "status": "ok",
     "timestamp": 1665325880943,
     "user": {
      "displayName": "Chaitanya Madduri",
      "userId": "05909831547153523272"
     },
     "user_tz": -120
    },
    "id": "W56LyAdQJlij"
   },
   "outputs": [],
   "source": [
    "df3['isMissing'] = np.where(df3['Text_data_cleaned'].isnull(), 1,0)"
   ]
  },
  {
   "cell_type": "code",
   "execution_count": 271,
   "metadata": {
    "colab": {
     "base_uri": "https://localhost:8080/"
    },
    "executionInfo": {
     "elapsed": 290,
     "status": "ok",
     "timestamp": 1665325882742,
     "user": {
      "displayName": "Chaitanya Madduri",
      "userId": "05909831547153523272"
     },
     "user_tz": -120
    },
    "id": "CF1npDmdF1A5",
    "outputId": "2d3bb589-ce23-4e24-838f-7df0e5b9454e"
   },
   "outputs": [
    {
     "data": {
      "text/plain": [
       "0    486\n",
       "Name: isMissing, dtype: int64"
      ]
     },
     "execution_count": 271,
     "metadata": {},
     "output_type": "execute_result"
    }
   ],
   "source": [
    "df3['isMissing'].value_counts()"
   ]
  },
  {
   "cell_type": "code",
   "execution_count": 272,
   "metadata": {
    "executionInfo": {
     "elapsed": 468,
     "status": "ok",
     "timestamp": 1665325884227,
     "user": {
      "displayName": "Chaitanya Madduri",
      "userId": "05909831547153523272"
     },
     "user_tz": -120
    },
    "id": "wUt5qoiOF9X0"
   },
   "outputs": [],
   "source": [
    "df3 = df3[df3['isMissing']==0]"
   ]
  },
  {
   "cell_type": "code",
   "execution_count": 273,
   "metadata": {
    "colab": {
     "base_uri": "https://localhost:8080/"
    },
    "executionInfo": {
     "elapsed": 405,
     "status": "ok",
     "timestamp": 1665325885816,
     "user": {
      "displayName": "Chaitanya Madduri",
      "userId": "05909831547153523272"
     },
     "user_tz": -120
    },
    "id": "tIZtC5G7J9VM",
    "outputId": "0bc7fac5-58eb-4ab7-eea6-18e0873c79e3"
   },
   "outputs": [
    {
     "data": {
      "text/plain": [
       "Index(['Company_Key', 'Quarter_details', 'Year', 'filing_type',\n",
       "       'Text_data_cleaned', 'operation_percentage', 'negative_percentage',\n",
       "       'credit_percentage', 'compamy_name', 'year', 'profitability',\n",
       "       'Company_Name', 'profitability_next_1', 'profitability_next_2',\n",
       "       'profitability_next_3', 'change_next_1', 'change_next_2',\n",
       "       'change_next_3', 'isMissing'],\n",
       "      dtype='object')"
      ]
     },
     "execution_count": 273,
     "metadata": {},
     "output_type": "execute_result"
    }
   ],
   "source": [
    "df3.columns"
   ]
  },
  {
   "cell_type": "code",
   "execution_count": 36,
   "metadata": {
    "executionInfo": {
     "elapsed": 4,
     "status": "ok",
     "timestamp": 1665307907208,
     "user": {
      "displayName": "Chaitanya Madduri",
      "userId": "05909831547153523272"
     },
     "user_tz": -120
    },
    "id": "z6Hwboq9J__D"
   },
   "outputs": [],
   "source": [
    "# col = ['Company_Key', \n",
    "#         'operation_percentage', 'compamy_name', 'company', 'industry', 'year', 'isMissing']"
   ]
  },
  {
   "cell_type": "code",
   "execution_count": 29,
   "metadata": {
    "executionInfo": {
     "elapsed": 754,
     "status": "ok",
     "timestamp": 1665259350536,
     "user": {
      "displayName": "Chaitanya Madduri",
      "userId": "05909831547153523272"
     },
     "user_tz": -120
    },
    "id": "MF7_qCkjJ2KS"
   },
   "outputs": [],
   "source": [
    "# df3[col].to_csv(DIR_PATH + \"missing_data.csv\", index=None)"
   ]
  },
  {
   "cell_type": "code",
   "execution_count": 274,
   "metadata": {
    "colab": {
     "base_uri": "https://localhost:8080/"
    },
    "executionInfo": {
     "elapsed": 218,
     "status": "ok",
     "timestamp": 1665325887790,
     "user": {
      "displayName": "Chaitanya Madduri",
      "userId": "05909831547153523272"
     },
     "user_tz": -120
    },
    "id": "WKbbMypovtYQ",
    "outputId": "ae80e61e-9848-49d2-df98-c2023036c107"
   },
   "outputs": [
    {
     "data": {
      "text/plain": [
       "(486, 19)"
      ]
     },
     "execution_count": 274,
     "metadata": {},
     "output_type": "execute_result"
    }
   ],
   "source": [
    "df3.shape"
   ]
  },
  {
   "cell_type": "code",
   "execution_count": 120,
   "metadata": {
    "executionInfo": {
     "elapsed": 338,
     "status": "ok",
     "timestamp": 1665314388129,
     "user": {
      "displayName": "Chaitanya Madduri",
      "userId": "05909831547153523272"
     },
     "user_tz": -120
    },
    "id": "fktoGleCGwIY"
   },
   "outputs": [],
   "source": []
  },
  {
   "cell_type": "code",
   "execution_count": 275,
   "metadata": {
    "colab": {
     "base_uri": "https://localhost:8080/",
     "height": 206
    },
    "executionInfo": {
     "elapsed": 368,
     "status": "ok",
     "timestamp": 1665325889542,
     "user": {
      "displayName": "Chaitanya Madduri",
      "userId": "05909831547153523272"
     },
     "user_tz": -120
    },
    "id": "IsS-v7gIIt6x",
    "outputId": "8a5e6789-509c-437d-fead-74744f2ed305"
   },
   "outputs": [
    {
     "data": {
      "text/html": [
       "\n",
       "  <div id=\"df-36c097ca-31cb-4c0e-845d-7234793b33a9\">\n",
       "    <div class=\"colab-df-container\">\n",
       "      <div>\n",
       "<style scoped>\n",
       "    .dataframe tbody tr th:only-of-type {\n",
       "        vertical-align: middle;\n",
       "    }\n",
       "\n",
       "    .dataframe tbody tr th {\n",
       "        vertical-align: top;\n",
       "    }\n",
       "\n",
       "    .dataframe thead th {\n",
       "        text-align: right;\n",
       "    }\n",
       "</style>\n",
       "<table border=\"1\" class=\"dataframe\">\n",
       "  <thead>\n",
       "    <tr style=\"text-align: right;\">\n",
       "      <th></th>\n",
       "      <th>Company_Name</th>\n",
       "      <th>compamy_name</th>\n",
       "      <th>year</th>\n",
       "    </tr>\n",
       "  </thead>\n",
       "  <tbody>\n",
       "    <tr>\n",
       "      <th>0</th>\n",
       "      <td>SPIRE INC</td>\n",
       "      <td>LACLEDE GROUP INC</td>\n",
       "      <td>2011</td>\n",
       "    </tr>\n",
       "    <tr>\n",
       "      <th>1</th>\n",
       "      <td>SPIRE INC</td>\n",
       "      <td>LACLEDE GAS CO</td>\n",
       "      <td>2011</td>\n",
       "    </tr>\n",
       "    <tr>\n",
       "      <th>2</th>\n",
       "      <td>SPIRE INC</td>\n",
       "      <td>LACLEDE GROUP INC</td>\n",
       "      <td>2012</td>\n",
       "    </tr>\n",
       "    <tr>\n",
       "      <th>3</th>\n",
       "      <td>SPIRE INC</td>\n",
       "      <td>LACLEDE GAS CO</td>\n",
       "      <td>2012</td>\n",
       "    </tr>\n",
       "    <tr>\n",
       "      <th>4</th>\n",
       "      <td>SPIRE INC</td>\n",
       "      <td>LACLEDE GROUP INC</td>\n",
       "      <td>2013</td>\n",
       "    </tr>\n",
       "  </tbody>\n",
       "</table>\n",
       "</div>\n",
       "      <button class=\"colab-df-convert\" onclick=\"convertToInteractive('df-36c097ca-31cb-4c0e-845d-7234793b33a9')\"\n",
       "              title=\"Convert this dataframe to an interactive table.\"\n",
       "              style=\"display:none;\">\n",
       "        \n",
       "  <svg xmlns=\"http://www.w3.org/2000/svg\" height=\"24px\"viewBox=\"0 0 24 24\"\n",
       "       width=\"24px\">\n",
       "    <path d=\"M0 0h24v24H0V0z\" fill=\"none\"/>\n",
       "    <path d=\"M18.56 5.44l.94 2.06.94-2.06 2.06-.94-2.06-.94-.94-2.06-.94 2.06-2.06.94zm-11 1L8.5 8.5l.94-2.06 2.06-.94-2.06-.94L8.5 2.5l-.94 2.06-2.06.94zm10 10l.94 2.06.94-2.06 2.06-.94-2.06-.94-.94-2.06-.94 2.06-2.06.94z\"/><path d=\"M17.41 7.96l-1.37-1.37c-.4-.4-.92-.59-1.43-.59-.52 0-1.04.2-1.43.59L10.3 9.45l-7.72 7.72c-.78.78-.78 2.05 0 2.83L4 21.41c.39.39.9.59 1.41.59.51 0 1.02-.2 1.41-.59l7.78-7.78 2.81-2.81c.8-.78.8-2.07 0-2.86zM5.41 20L4 18.59l7.72-7.72 1.47 1.35L5.41 20z\"/>\n",
       "  </svg>\n",
       "      </button>\n",
       "      \n",
       "  <style>\n",
       "    .colab-df-container {\n",
       "      display:flex;\n",
       "      flex-wrap:wrap;\n",
       "      gap: 12px;\n",
       "    }\n",
       "\n",
       "    .colab-df-convert {\n",
       "      background-color: #E8F0FE;\n",
       "      border: none;\n",
       "      border-radius: 50%;\n",
       "      cursor: pointer;\n",
       "      display: none;\n",
       "      fill: #1967D2;\n",
       "      height: 32px;\n",
       "      padding: 0 0 0 0;\n",
       "      width: 32px;\n",
       "    }\n",
       "\n",
       "    .colab-df-convert:hover {\n",
       "      background-color: #E2EBFA;\n",
       "      box-shadow: 0px 1px 2px rgba(60, 64, 67, 0.3), 0px 1px 3px 1px rgba(60, 64, 67, 0.15);\n",
       "      fill: #174EA6;\n",
       "    }\n",
       "\n",
       "    [theme=dark] .colab-df-convert {\n",
       "      background-color: #3B4455;\n",
       "      fill: #D2E3FC;\n",
       "    }\n",
       "\n",
       "    [theme=dark] .colab-df-convert:hover {\n",
       "      background-color: #434B5C;\n",
       "      box-shadow: 0px 1px 3px 1px rgba(0, 0, 0, 0.15);\n",
       "      filter: drop-shadow(0px 1px 2px rgba(0, 0, 0, 0.3));\n",
       "      fill: #FFFFFF;\n",
       "    }\n",
       "  </style>\n",
       "\n",
       "      <script>\n",
       "        const buttonEl =\n",
       "          document.querySelector('#df-36c097ca-31cb-4c0e-845d-7234793b33a9 button.colab-df-convert');\n",
       "        buttonEl.style.display =\n",
       "          google.colab.kernel.accessAllowed ? 'block' : 'none';\n",
       "\n",
       "        async function convertToInteractive(key) {\n",
       "          const element = document.querySelector('#df-36c097ca-31cb-4c0e-845d-7234793b33a9');\n",
       "          const dataTable =\n",
       "            await google.colab.kernel.invokeFunction('convertToInteractive',\n",
       "                                                     [key], {});\n",
       "          if (!dataTable) return;\n",
       "\n",
       "          const docLinkHtml = 'Like what you see? Visit the ' +\n",
       "            '<a target=\"_blank\" href=https://colab.research.google.com/notebooks/data_table.ipynb>data table notebook</a>'\n",
       "            + ' to learn more about interactive tables.';\n",
       "          element.innerHTML = '';\n",
       "          dataTable['output_type'] = 'display_data';\n",
       "          await google.colab.output.renderOutput(dataTable, element);\n",
       "          const docLink = document.createElement('div');\n",
       "          docLink.innerHTML = docLinkHtml;\n",
       "          element.appendChild(docLink);\n",
       "        }\n",
       "      </script>\n",
       "    </div>\n",
       "  </div>\n",
       "  "
      ],
      "text/plain": [
       "  Company_Name       compamy_name  year\n",
       "0    SPIRE INC  LACLEDE GROUP INC  2011\n",
       "1    SPIRE INC     LACLEDE GAS CO  2011\n",
       "2    SPIRE INC  LACLEDE GROUP INC  2012\n",
       "3    SPIRE INC     LACLEDE GAS CO  2012\n",
       "4    SPIRE INC  LACLEDE GROUP INC  2013"
      ]
     },
     "execution_count": 275,
     "metadata": {},
     "output_type": "execute_result"
    }
   ],
   "source": [
    "df3[['Company_Name','compamy_name','year']].head()"
   ]
  },
  {
   "cell_type": "code",
   "execution_count": 276,
   "metadata": {
    "executionInfo": {
     "elapsed": 259,
     "status": "ok",
     "timestamp": 1665325892568,
     "user": {
      "displayName": "Chaitanya Madduri",
      "userId": "05909831547153523272"
     },
     "user_tz": -120
    },
    "id": "tEJVHZMkKS5g"
   },
   "outputs": [],
   "source": [
    "# removing the companyies with the subsidary\n",
    "df4 = df3[~df3['compamy_name'].isin(['Entergy Gulf States Reconstruction Funding I, LLC',\n",
    "                                     'Entergy Texas Restoration Funding, LLC','Entergy Arkansas Restoration Funding, LLC','Entergy Arkansas Restoration Funding, LLC','AEP Texas Central Transition Funding III LLC','OHIO PHASE-IN-RECOVERY FUNDING LLC','Appalachian Consumer Rate Relief Funding LLC','LACLEDE GAS CO',\n",
    "        'OHIO POWER CO',\n",
    "       'AEP Texas Central Transition Funding II LLC',\n",
    "       'AEP Texas Central Transition Funding III LLC',\n",
    "       'OHIO PHASE-IN-RECOVERY FUNDING LLC',\n",
    "       'Appalachian Consumer Rate Relief Funding LLC',\n",
    "       'ENTERGY ARKANSAS INC',\n",
    "       'Entergy Gulf States Reconstruction Funding I, LLC',\n",
    "       'Entergy Texas Restoration Funding, LLC',\n",
    "       'Entergy Arkansas Restoration Funding, LLC',\n",
    "       'ENTERGY LOUISIANA INVESTMENT RECOVERY FUNDING I, L.L.C.',\n",
    " \n",
    "       'Entergy New Orleans Storm Recovery Funding I, L.L.C.',\n",
    "       'Entergy Louisiana, LLC'])]"
   ]
  },
  {
   "cell_type": "code",
   "execution_count": 277,
   "metadata": {
    "executionInfo": {
     "elapsed": 306,
     "status": "ok",
     "timestamp": 1665325894741,
     "user": {
      "displayName": "Chaitanya Madduri",
      "userId": "05909831547153523272"
     },
     "user_tz": -120
    },
    "id": "PG5NZcUJlH6O"
   },
   "outputs": [],
   "source": [
    "df9 = df3[df3['Company_Key'].isin([65984, 4904, 1126956, 65984])]\n"
   ]
  },
  {
   "cell_type": "code",
   "execution_count": 278,
   "metadata": {
    "colab": {
     "base_uri": "https://localhost:8080/"
    },
    "executionInfo": {
     "elapsed": 4,
     "status": "ok",
     "timestamp": 1665325895786,
     "user": {
      "displayName": "Chaitanya Madduri",
      "userId": "05909831547153523272"
     },
     "user_tz": -120
    },
    "id": "OlKSz2FTn_Ux",
    "outputId": "2734e033-1bc0-4891-d869-5805b125493b"
   },
   "outputs": [
    {
     "data": {
      "text/plain": [
       "array(['LACLEDE GROUP INC', 'LACLEDE GAS CO',\n",
       "       'COLUMBUS SOUTHERN POWER CO /OH/',\n",
       "       'AMERICAN ELECTRIC POWER CO INC', 'INDIANA MICHIGAN POWER CO',\n",
       "       'APPALACHIAN POWER CO', 'OHIO POWER CO',\n",
       "       'PUBLIC SERVICE CO OF OKLAHOMA', 'SOUTHWESTERN ELECTRIC POWER CO',\n",
       "       'AEP Texas Central Transition Funding II LLC',\n",
       "       'AEP Texas Central Transition Funding III LLC',\n",
       "       'OHIO PHASE-IN-RECOVERY FUNDING LLC',\n",
       "       'Appalachian Consumer Rate Relief Funding LLC',\n",
       "       'ENTERGY ARKANSAS INC',\n",
       "       'Entergy Gulf States Reconstruction Funding I, LLC',\n",
       "       'Entergy Texas Restoration Funding, LLC',\n",
       "       'Entergy Arkansas Restoration Funding, LLC',\n",
       "       'ENTERGY LOUISIANA INVESTMENT RECOVERY FUNDING I, L.L.C.',\n",
       "       'ENTERGY CORP /DE/', 'SPIRE INC',\n",
       "       'Entergy New Orleans Storm Recovery Funding I, L.L.C.',\n",
       "       'Entergy Louisiana, LLC'], dtype=object)"
      ]
     },
     "execution_count": 278,
     "metadata": {},
     "output_type": "execute_result"
    }
   ],
   "source": [
    "df9[['Company_Name','compamy_name','Year']]['compamy_name'].unique()"
   ]
  },
  {
   "cell_type": "code",
   "execution_count": 279,
   "metadata": {
    "colab": {
     "base_uri": "https://localhost:8080/"
    },
    "executionInfo": {
     "elapsed": 220,
     "status": "ok",
     "timestamp": 1665325898229,
     "user": {
      "displayName": "Chaitanya Madduri",
      "userId": "05909831547153523272"
     },
     "user_tz": -120
    },
    "id": "zu1jCNj4n_JF",
    "outputId": "b28ebea3-8bd9-4b33-f46f-b706e60832e1"
   },
   "outputs": [
    {
     "data": {
      "text/plain": [
       "array(['SPIRE INC', 'AMERICAN ELECTRIC POWER CO INC', 'ENTERGY CORP /DE/'],\n",
       "      dtype=object)"
      ]
     },
     "execution_count": 279,
     "metadata": {},
     "output_type": "execute_result"
    }
   ],
   "source": [
    "df9[['Company_Name','compamy_name','Year']]['Company_Name'].unique()"
   ]
  },
  {
   "cell_type": "code",
   "execution_count": 280,
   "metadata": {
    "executionInfo": {
     "elapsed": 740,
     "status": "ok",
     "timestamp": 1665325900599,
     "user": {
      "displayName": "Chaitanya Madduri",
      "userId": "05909831547153523272"
     },
     "user_tz": -120
    },
    "id": "Cxw4QWzWKS19"
   },
   "outputs": [],
   "source": [
    "df5 = df4.drop_duplicates(['Text_data_cleaned'])"
   ]
  },
  {
   "cell_type": "code",
   "execution_count": 281,
   "metadata": {
    "colab": {
     "base_uri": "https://localhost:8080/"
    },
    "executionInfo": {
     "elapsed": 5,
     "status": "ok",
     "timestamp": 1665325901231,
     "user": {
      "displayName": "Chaitanya Madduri",
      "userId": "05909831547153523272"
     },
     "user_tz": -120
    },
    "id": "aBDWeZCALAa-",
    "outputId": "23433382-56b5-4aa2-dca7-c9533c9d78b0"
   },
   "outputs": [
    {
     "data": {
      "text/plain": [
       "(431, 19)"
      ]
     },
     "execution_count": 281,
     "metadata": {},
     "output_type": "execute_result"
    }
   ],
   "source": [
    "df5.shape"
   ]
  },
  {
   "cell_type": "code",
   "execution_count": 283,
   "metadata": {
    "colab": {
     "base_uri": "https://localhost:8080/",
     "height": 280
    },
    "executionInfo": {
     "elapsed": 352,
     "status": "ok",
     "timestamp": 1665325910816,
     "user": {
      "displayName": "Chaitanya Madduri",
      "userId": "05909831547153523272"
     },
     "user_tz": -120
    },
    "id": "2gwf20vMKoZz",
    "outputId": "86ea443c-670b-4675-f006-c34968a8ffd1"
   },
   "outputs": [
    {
     "data": {
      "text/html": [
       "\n",
       "  <div id=\"df-53dc00d3-2440-41b4-830e-c8ab2d58acdb\">\n",
       "    <div class=\"colab-df-container\">\n",
       "      <div>\n",
       "<style scoped>\n",
       "    .dataframe tbody tr th:only-of-type {\n",
       "        vertical-align: middle;\n",
       "    }\n",
       "\n",
       "    .dataframe tbody tr th {\n",
       "        vertical-align: top;\n",
       "    }\n",
       "\n",
       "    .dataframe thead th {\n",
       "        text-align: right;\n",
       "    }\n",
       "</style>\n",
       "<table border=\"1\" class=\"dataframe\">\n",
       "  <thead>\n",
       "    <tr style=\"text-align: right;\">\n",
       "      <th></th>\n",
       "      <th>Company_Key</th>\n",
       "      <th>Quarter_details</th>\n",
       "      <th>Year</th>\n",
       "      <th>filing_type</th>\n",
       "      <th>Text_data_cleaned</th>\n",
       "      <th>operation_percentage</th>\n",
       "      <th>negative_percentage</th>\n",
       "      <th>credit_percentage</th>\n",
       "      <th>compamy_name</th>\n",
       "      <th>year</th>\n",
       "      <th>profitability</th>\n",
       "      <th>Company_Name</th>\n",
       "      <th>profitability_next_1</th>\n",
       "      <th>profitability_next_2</th>\n",
       "      <th>profitability_next_3</th>\n",
       "      <th>change_next_1</th>\n",
       "      <th>change_next_2</th>\n",
       "      <th>change_next_3</th>\n",
       "      <th>isMissing</th>\n",
       "    </tr>\n",
       "  </thead>\n",
       "  <tbody>\n",
       "    <tr>\n",
       "      <th>0</th>\n",
       "      <td>1126956</td>\n",
       "      <td>QTR4</td>\n",
       "      <td>2011</td>\n",
       "      <td>10-K</td>\n",
       "      <td>0001126956 000074 20111121 lacledegroupform10 ...</td>\n",
       "      <td>0.015983</td>\n",
       "      <td>0.018151</td>\n",
       "      <td>0.001653</td>\n",
       "      <td>LACLEDE GROUP INC</td>\n",
       "      <td>2011</td>\n",
       "      <td>-0.1127</td>\n",
       "      <td>SPIRE INC</td>\n",
       "      <td>-0.0891</td>\n",
       "      <td>-0.0834</td>\n",
       "      <td>-0.0765</td>\n",
       "      <td>-20.87</td>\n",
       "      <td>-26.00</td>\n",
       "      <td>-32.10</td>\n",
       "      <td>0</td>\n",
       "    </tr>\n",
       "    <tr>\n",
       "      <th>2</th>\n",
       "      <td>1126956</td>\n",
       "      <td>QTR4</td>\n",
       "      <td>2012</td>\n",
       "      <td>10-K</td>\n",
       "      <td>0001126956 000080 20121119 lacledegroupform10 ...</td>\n",
       "      <td>0.007124</td>\n",
       "      <td>0.013886</td>\n",
       "      <td>0.009069</td>\n",
       "      <td>LACLEDE GROUP INC</td>\n",
       "      <td>2012</td>\n",
       "      <td>-0.0891</td>\n",
       "      <td>SPIRE INC</td>\n",
       "      <td>-0.0834</td>\n",
       "      <td>-0.0765</td>\n",
       "      <td>-0.0449</td>\n",
       "      <td>-6.48</td>\n",
       "      <td>-14.19</td>\n",
       "      <td>-49.65</td>\n",
       "      <td>0</td>\n",
       "    </tr>\n",
       "  </tbody>\n",
       "</table>\n",
       "</div>\n",
       "      <button class=\"colab-df-convert\" onclick=\"convertToInteractive('df-53dc00d3-2440-41b4-830e-c8ab2d58acdb')\"\n",
       "              title=\"Convert this dataframe to an interactive table.\"\n",
       "              style=\"display:none;\">\n",
       "        \n",
       "  <svg xmlns=\"http://www.w3.org/2000/svg\" height=\"24px\"viewBox=\"0 0 24 24\"\n",
       "       width=\"24px\">\n",
       "    <path d=\"M0 0h24v24H0V0z\" fill=\"none\"/>\n",
       "    <path d=\"M18.56 5.44l.94 2.06.94-2.06 2.06-.94-2.06-.94-.94-2.06-.94 2.06-2.06.94zm-11 1L8.5 8.5l.94-2.06 2.06-.94-2.06-.94L8.5 2.5l-.94 2.06-2.06.94zm10 10l.94 2.06.94-2.06 2.06-.94-2.06-.94-.94-2.06-.94 2.06-2.06.94z\"/><path d=\"M17.41 7.96l-1.37-1.37c-.4-.4-.92-.59-1.43-.59-.52 0-1.04.2-1.43.59L10.3 9.45l-7.72 7.72c-.78.78-.78 2.05 0 2.83L4 21.41c.39.39.9.59 1.41.59.51 0 1.02-.2 1.41-.59l7.78-7.78 2.81-2.81c.8-.78.8-2.07 0-2.86zM5.41 20L4 18.59l7.72-7.72 1.47 1.35L5.41 20z\"/>\n",
       "  </svg>\n",
       "      </button>\n",
       "      \n",
       "  <style>\n",
       "    .colab-df-container {\n",
       "      display:flex;\n",
       "      flex-wrap:wrap;\n",
       "      gap: 12px;\n",
       "    }\n",
       "\n",
       "    .colab-df-convert {\n",
       "      background-color: #E8F0FE;\n",
       "      border: none;\n",
       "      border-radius: 50%;\n",
       "      cursor: pointer;\n",
       "      display: none;\n",
       "      fill: #1967D2;\n",
       "      height: 32px;\n",
       "      padding: 0 0 0 0;\n",
       "      width: 32px;\n",
       "    }\n",
       "\n",
       "    .colab-df-convert:hover {\n",
       "      background-color: #E2EBFA;\n",
       "      box-shadow: 0px 1px 2px rgba(60, 64, 67, 0.3), 0px 1px 3px 1px rgba(60, 64, 67, 0.15);\n",
       "      fill: #174EA6;\n",
       "    }\n",
       "\n",
       "    [theme=dark] .colab-df-convert {\n",
       "      background-color: #3B4455;\n",
       "      fill: #D2E3FC;\n",
       "    }\n",
       "\n",
       "    [theme=dark] .colab-df-convert:hover {\n",
       "      background-color: #434B5C;\n",
       "      box-shadow: 0px 1px 3px 1px rgba(0, 0, 0, 0.15);\n",
       "      filter: drop-shadow(0px 1px 2px rgba(0, 0, 0, 0.3));\n",
       "      fill: #FFFFFF;\n",
       "    }\n",
       "  </style>\n",
       "\n",
       "      <script>\n",
       "        const buttonEl =\n",
       "          document.querySelector('#df-53dc00d3-2440-41b4-830e-c8ab2d58acdb button.colab-df-convert');\n",
       "        buttonEl.style.display =\n",
       "          google.colab.kernel.accessAllowed ? 'block' : 'none';\n",
       "\n",
       "        async function convertToInteractive(key) {\n",
       "          const element = document.querySelector('#df-53dc00d3-2440-41b4-830e-c8ab2d58acdb');\n",
       "          const dataTable =\n",
       "            await google.colab.kernel.invokeFunction('convertToInteractive',\n",
       "                                                     [key], {});\n",
       "          if (!dataTable) return;\n",
       "\n",
       "          const docLinkHtml = 'Like what you see? Visit the ' +\n",
       "            '<a target=\"_blank\" href=https://colab.research.google.com/notebooks/data_table.ipynb>data table notebook</a>'\n",
       "            + ' to learn more about interactive tables.';\n",
       "          element.innerHTML = '';\n",
       "          dataTable['output_type'] = 'display_data';\n",
       "          await google.colab.output.renderOutput(dataTable, element);\n",
       "          const docLink = document.createElement('div');\n",
       "          docLink.innerHTML = docLinkHtml;\n",
       "          element.appendChild(docLink);\n",
       "        }\n",
       "      </script>\n",
       "    </div>\n",
       "  </div>\n",
       "  "
      ],
      "text/plain": [
       "   Company_Key Quarter_details  Year filing_type  \\\n",
       "0      1126956            QTR4  2011        10-K   \n",
       "2      1126956            QTR4  2012        10-K   \n",
       "\n",
       "                                   Text_data_cleaned  operation_percentage  \\\n",
       "0  0001126956 000074 20111121 lacledegroupform10 ...              0.015983   \n",
       "2  0001126956 000080 20121119 lacledegroupform10 ...              0.007124   \n",
       "\n",
       "   negative_percentage  credit_percentage       compamy_name  year  \\\n",
       "0             0.018151           0.001653  LACLEDE GROUP INC  2011   \n",
       "2             0.013886           0.009069  LACLEDE GROUP INC  2012   \n",
       "\n",
       "   profitability Company_Name  profitability_next_1  profitability_next_2  \\\n",
       "0        -0.1127    SPIRE INC               -0.0891               -0.0834   \n",
       "2        -0.0891    SPIRE INC               -0.0834               -0.0765   \n",
       "\n",
       "   profitability_next_3  change_next_1  change_next_2  change_next_3  \\\n",
       "0               -0.0765         -20.87         -26.00         -32.10   \n",
       "2               -0.0449          -6.48         -14.19         -49.65   \n",
       "\n",
       "   isMissing  \n",
       "0          0  \n",
       "2          0  "
      ]
     },
     "execution_count": 283,
     "metadata": {},
     "output_type": "execute_result"
    }
   ],
   "source": [
    "df5.head(2)"
   ]
  },
  {
   "cell_type": "code",
   "execution_count": 284,
   "metadata": {
    "colab": {
     "base_uri": "https://localhost:8080/"
    },
    "executionInfo": {
     "elapsed": 485,
     "status": "ok",
     "timestamp": 1665325925264,
     "user": {
      "displayName": "Chaitanya Madduri",
      "userId": "05909831547153523272"
     },
     "user_tz": -120
    },
    "id": "C0tn_xIyGLey",
    "outputId": "a2d990f5-529e-4c6f-c3d8-1c156a49be84"
   },
   "outputs": [
    {
     "data": {
      "text/plain": [
       "compamy_name                               year\n",
       "ADVANCED DISPOSAL SERVICES                 2016    1\n",
       "PERMA-FIX ENVIRONMENTAL SVCS               2012    1\n",
       "PATTERN ENERGY GROUP INC                   2016    1\n",
       "                                           2015    1\n",
       "                                           2014    1\n",
       "PACIFIC GAS & ELECTRIC Co                  2013    1\n",
       "ORMAT TECHNOLOGIES INC                     2018    1\n",
       "                                           2017    1\n",
       "                                           2016    1\n",
       "                                           2015    1\n",
       "                                           2014    1\n",
       "                                           2013    1\n",
       "                                           2012    1\n",
       "                                           2011    1\n",
       "OGE ENERGY CORP.                           2018    1\n",
       "                                           2017    1\n",
       "                                           2016    1\n",
       "                                           2015    1\n",
       "                                           2014    1\n",
       "                                           2013    1\n",
       "                                           2012    1\n",
       "                                           2011    1\n",
       "OCEAN POWER TECHNOLOGIES INC               2018    1\n",
       "                                           2017    1\n",
       "                                           2016    1\n",
       "PERMA-FIX ENVIRONMENTAL SVCS               2011    1\n",
       "                                           2013    1\n",
       "OCEAN POWER TECHNOLOGIES INC               2014    1\n",
       "PERMA-FIX ENVIRONMENTAL SVCS               2014    1\n",
       "PPL Corp                                   2017    1\n",
       "                                           2014    1\n",
       "PNM RESOURCES INC                          2018    1\n",
       "                                           2017    1\n",
       "                                           2016    1\n",
       "                                           2015    1\n",
       "                                           2014    1\n",
       "PINNACLE WEST CAPITAL CORP                 2018    1\n",
       "                                           2017    1\n",
       "                                           2016    1\n",
       "                                           2015    1\n",
       "                                           2014    1\n",
       "                                           2013    1\n",
       "PG&E Corp                                  2018    1\n",
       "                                           2017    1\n",
       "                                           2016    1\n",
       "                                           2015    1\n",
       "                                           2014    1\n",
       "PG&E CORP                                  2011    1\n",
       "PERMA-FIX ENVIRONMENTAL SVCS               2018    1\n",
       "                                           2017    1\n",
       "                                           2016    1\n",
       "                                           2015    1\n",
       "OCEAN POWER TECHNOLOGIES INC               2015    1\n",
       "                                           2013    1\n",
       "PPL ELECTRIC UTILITIES CORP                2011    1\n",
       "NEXTERA ENERGY INC                         2018    1\n",
       "                                           2016    1\n",
       "                                           2015    1\n",
       "                                           2014    1\n",
       "MIDDLESEX WATER CO                         2018    1\n",
       "                                           2017    1\n",
       "                                           2016    1\n",
       "                                           2015    1\n",
       "                                           2014    1\n",
       "                                           2013    1\n",
       "                                           2012    1\n",
       "                                           2011    1\n",
       "MGE ENERGY INC                             2018    1\n",
       "                                           2017    1\n",
       "                                           2016    1\n",
       "                                           2015    1\n",
       "                                           2014    1\n",
       "                                           2011    1\n",
       "MADISON GAS & ELECTRIC CO                  2013    1\n",
       "                                           2012    1\n",
       "LACLEDE GROUP INC                          2014    1\n",
       "                                           2013    1\n",
       "                                           2012    1\n",
       "                                           2011    1\n",
       "NEXTERA ENERGY INC                         2017    1\n",
       "NORTHEAST UTILITIES                        2015    1\n",
       "OCEAN POWER TECHNOLOGIES INC               2012    1\n",
       "NORTHWESTERN CORP                          2011    1\n",
       "OCEAN POWER TECHNOLOGIES INC               2011    1\n",
       "NSTAR ELECTRIC CO                          2017    1\n",
       "                                           2013    1\n",
       "NRG Yield, Inc.                            2018    1\n",
       "                                           2017    1\n",
       "                                           2016    1\n",
       "                                           2015    1\n",
       "                                           2014    1\n",
       "NRG ENERGY, INC.                           2018    1\n",
       "                                           2017    1\n",
       "                                           2016    1\n",
       "                                           2015    1\n",
       "                                           2014    1\n",
       "                                           2013    1\n",
       "NRG ENERGY INC                             2012    1\n",
       "                                           2011    1\n",
       "NORTHWESTERN CORP                          2018    1\n",
       "                                           2017    1\n",
       "                                           2016    1\n",
       "                                           2015    1\n",
       "                                           2014    1\n",
       "                                           2013    1\n",
       "                                           2012    1\n",
       "PPL Corp                                   2018    1\n",
       "PUBLIC SERVICE CO OF OKLAHOMA              2011    1\n",
       "KENTUCKY UTILITIES CO                      2015    1\n",
       "UNITIL CORP                                2017    1\n",
       "                                           2015    1\n",
       "                                           2014    1\n",
       "                                           2013    1\n",
       "                                           2012    1\n",
       "                                           2011    1\n",
       "UGI CORP /PA/                              2018    1\n",
       "                                           2017    1\n",
       "                                           2016    1\n",
       "                                           2015    1\n",
       "                                           2014    1\n",
       "                                           2013    1\n",
       "                                           2012    1\n",
       "UGI CORP                                   2011    1\n",
       "TerraForm Power, Inc.                      2016    1\n",
       "                                           2015    1\n",
       "Targa Resources Partners LP                2011    1\n",
       "TEXAS NEW MEXICO POWER CO                  2013    1\n",
       "                                           2012    1\n",
       "TARGA RESOURCES PARTNERS LP                2012    1\n",
       "Summit Midstream Partners, LP              2017    1\n",
       "                                           2016    1\n",
       "                                           2015    1\n",
       "                                           2014    1\n",
       "UNITIL CORP                                2016    1\n",
       "                                           2018    1\n",
       "SUMMIT MIDSTREAM PARTNERS LP               2013    1\n",
       "USA COMPRESSION PRTNRS LP                  2018    1\n",
       "XCEL ENERGY INC                            2017    1\n",
       "                                           2016    1\n",
       "                                           2015    1\n",
       "                                           2014    1\n",
       "                                           2013    1\n",
       "                                           2012    1\n",
       "                                           2011    1\n",
       "Western Gas Equity Partners, LP            2018    1\n",
       "                                           2017    1\n",
       "                                           2016    1\n",
       "                                           2015    1\n",
       "                                           2014    1\n",
       "WESTERN MIDSTRM PRTNRS LP                  2013    1\n",
       "WASTE MANAGEMENT INC                       2018    1\n",
       "                                           2017    1\n",
       "                                           2016    1\n",
       "                                           2015    1\n",
       "                                           2014    1\n",
       "                                           2013    1\n",
       "                                           2012    1\n",
       "                                           2011    1\n",
       "WASTE CONNECTIONS INC                      2018    1\n",
       "                                           2017    1\n",
       "SUMMIT MIDSTREAM PARTNERS LP               2018    1\n",
       "STERICYCLE INC                             2018    1\n",
       "PUBLIC SERVICE ELECTRIC & GAS CO           2013    1\n",
       "SEMPRA ENERGY                              2017    1\n",
       "                                           2015    1\n",
       "                                           2014    1\n",
       "RGC RESOURCES INC                          2018    1\n",
       "                                           2017    1\n",
       "                                           2016    1\n",
       "                                           2015    1\n",
       "                                           2014    1\n",
       "                                           2013    1\n",
       "                                           2012    1\n",
       "                                           2011    1\n",
       "REPUBLIC SERVICES, INC.                    2018    1\n",
       "                                           2017    1\n",
       "                                           2016    1\n",
       "                                           2015    1\n",
       "                                           2014    1\n",
       "                                           2013    1\n",
       "REPUBLIC SERVICES INC                      2012    1\n",
       "                                           2011    1\n",
       "PUBLIC SERVICE ENTERPRISE GROUP INC        2018    1\n",
       "                                           2017    1\n",
       "                                           2016    1\n",
       "                                           2015    1\n",
       "                                           2014    1\n",
       "SEMPRA ENERGY                              2016    1\n",
       "                                           2018    1\n",
       "STERICYCLE INC                             2017    1\n",
       "SOUTH JERSEY INDUSTRIES INC                2011    1\n",
       "STERICYCLE INC                             2016    1\n",
       "                                           2015    1\n",
       "                                           2014    1\n",
       "                                           2013    1\n",
       "                                           2012    1\n",
       "                                           2011    1\n",
       "SPIRE INC                                  2018    1\n",
       "                                           2017    1\n",
       "                                           2016    1\n",
       "SOUTHWESTERN ELECTRIC POWER CO             2011    1\n",
       "SOUTHERN CO                                2018    1\n",
       "                                           2016    1\n",
       "                                           2015    1\n",
       "                                           2014    1\n",
       "                                           2013    1\n",
       "SOUTHERN CALIFORNIA EDISON CO              2013    1\n",
       "SOUTH JERSEY INDUSTRIES INC                2018    1\n",
       "                                           2017    1\n",
       "                                           2016    1\n",
       "                                           2015    1\n",
       "                                           2014    1\n",
       "                                           2013    1\n",
       "                                           2012    1\n",
       "KENTUCKY UTILITIES CO                      2016    1\n",
       "                                           2013    1\n",
       "AES CORP                                   2014    1\n",
       "CALIFORNIA WATER SERVICE GP                2012    1\n",
       "CADIZ INC                                  2018    1\n",
       "                                           2017    1\n",
       "                                           2016    1\n",
       "                                           2015    1\n",
       "                                           2014    1\n",
       "                                           2013    1\n",
       "                                           2012    1\n",
       "                                           2011    1\n",
       "Boardwalk Pipeline Partners, LP            2014    1\n",
       "                                           2013    1\n",
       "                                           2012    1\n",
       "                                           2011    1\n",
       "BLACK HILLS CORP /SD/                      2018    1\n",
       "                                           2017    1\n",
       "                                           2016    1\n",
       "                                           2015    1\n",
       "                                           2014    1\n",
       "                                           2013    1\n",
       "                                           2012    1\n",
       "                                           2011    1\n",
       "American Water Works Company, Inc.         2018    1\n",
       "AVANGRID INC                               2018    1\n",
       "                                           2017    1\n",
       "CALIFORNIA WATER SERVICE GP                2011    1\n",
       "                                           2013    1\n",
       "AVALON HOLDINGS CORP                       2018    1\n",
       "CALIFORNIA WATER SERVICE GP                2014    1\n",
       "CLEAN HARBORS INC                          2012    1\n",
       "                                           2011    1\n",
       "CLEAN ENERGY FUELS CORP                    2015    1\n",
       "                                           2014    1\n",
       "                                           2013    1\n",
       "                                           2012    1\n",
       "                                           2011    1\n",
       "CENTERPOINT ENERGY TRANSITION BOND CO LLC  2011    1\n",
       "CENTERPOINT ENERGY RESOURCES CORP          2011    1\n",
       "CENTERPOINT ENERGY INC                     2018    1\n",
       "                                           2017    1\n",
       "                                           2016    1\n",
       "                                           2015    1\n",
       "                                           2014    1\n",
       "                                           2013    1\n",
       "                                           2012    1\n",
       "                                           2011    1\n",
       "CENTERPOINT ENERGY HOUSTON ELECTRIC LLC    2011    1\n",
       "CAROLINA POWER & LIGHT CO                  2013    1\n",
       "CALIFORNIA WATER SERVICE GROUP             2018    1\n",
       "                                           2017    1\n",
       "                                           2016    1\n",
       "CALIFORNIA WATER SERVICE GP                2015    1\n",
       "AVANGRID INC                               2016    1\n",
       "AVALON HOLDINGS CORP                       2017    1\n",
       "CLEAN HARBORS INC                          2014    1\n",
       "AMERICAN ELECTRIC POWER CO INC             2016    1\n",
       "                                           2014    1\n",
       "                                           2012    1\n",
       "                                           2011    1\n",
       "AMEREN CORP                                2018    1\n",
       "                                           2017    1\n",
       "                                           2016    1\n",
       "                                           2015    1\n",
       "                                           2014    1\n",
       "ALLIANT ENERGY CORP                        2018    1\n",
       "                                           2017    1\n",
       "                                           2016    1\n",
       "                                           2015    1\n",
       "                                           2014    1\n",
       "ALABAMA POWER CO                           2017    1\n",
       "                                           2012    1\n",
       "                                           2011    1\n",
       "AES CORP (THE)                             2013    1\n",
       "                                           2012    1\n",
       "                                           2011    1\n",
       "AES CORP                                   2018    1\n",
       "                                           2017    1\n",
       "                                           2016    1\n",
       "                                           2015    1\n",
       "AMERICAN ELECTRIC POWER CO INC             2015    1\n",
       "                                           2017    1\n",
       "AVALON HOLDINGS CORP                       2016    1\n",
       "AMERICAN ELECTRIC POWER CO INC             2018    1\n",
       "AVALON HOLDINGS CORP                       2015    1\n",
       "                                           2014    1\n",
       "                                           2013    1\n",
       "                                           2012    1\n",
       "                                           2011    1\n",
       "ATLANTIC POWER CORP                        2017    1\n",
       "                                           2016    1\n",
       "                                           2015    1\n",
       "                                           2014    1\n",
       "                                           2013    1\n",
       "                                           2012    1\n",
       "                                           2011    1\n",
       "AQUA AMERICA INC                           2018    1\n",
       "                                           2017    1\n",
       "                                           2015    1\n",
       "APPALACHIAN POWER CO                       2011    1\n",
       "AMERICAN WATER WORKS CO INC                2017    1\n",
       "                                           2016    1\n",
       "                                           2015    1\n",
       "                                           2014    1\n",
       "                                           2013    1\n",
       "                                           2012    1\n",
       "                                           2011    1\n",
       "CLEAN HARBORS INC                          2013    1\n",
       "                                           2015    1\n",
       "KENTUCKY UTILITIES CO                      2012    1\n",
       "Enable Midstream Partners, LP              2016    1\n",
       "EXELON CORP                                2018    1\n",
       "                                           2016    1\n",
       "                                           2015    1\n",
       "                                           2014    1\n",
       "EVERSOURCE ENERGY                          2018    1\n",
       "                                           2016    1\n",
       "ESSENTIAL UTILITIES INC                    2016    1\n",
       "                                           2014    1\n",
       "                                           2013    1\n",
       "                                           2012    1\n",
       "                                           2011    1\n",
       "EQT Midstream Partners, LP                 2016    1\n",
       "                                           2015    1\n",
       "EQT MIDSTREAM PARTNERS LP                  2014    1\n",
       "                                           2013    1\n",
       "ENTERPRISE PRODUCTS PARTNERS L P           2018    1\n",
       "                                           2017    1\n",
       "                                           2016    1\n",
       "                                           2015    1\n",
       "                                           2013    1\n",
       "                                           2012    1\n",
       "                                           2011    1\n",
       "ENTERPRISE PRODCT PARTNRS LP               2014    1\n",
       "Enable Midstream Partners, LP              2015    1\n",
       "                                           2017    1\n",
       "ENTERGY CORP /DE/                          2016    1\n",
       "FIRSTENERGY CORP                           2014    1\n",
       "JERSEY CENTRAL POWER & LIGHT CO            2013    1\n",
       "ITC HOLDINGS CORP                          2012    1\n",
       "                                           2011    1\n",
       "INTERSTATE POWER & LIGHT CO                2013    1\n",
       "INDIANA MICHIGAN POWER CO                  2011    1\n",
       "HAWAIIAN ELECTRIC INDUSTRIES INC           2018    1\n",
       "                                           2017    1\n",
       "                                           2016    1\n",
       "                                           2015    1\n",
       "HAWAIIAN ELECTRIC CO INC                   2014    1\n",
       "GENIE ENERGY LTD                           2018    1\n",
       "                                           2017    1\n",
       "                                           2016    1\n",
       "                                           2015    1\n",
       "                                           2014    1\n",
       "                                           2013    1\n",
       "FirstEnergy Solutions Corp.                2015    1\n",
       "FLORIDA POWER & LIGHT CO                   2013    1\n",
       "                                           2012    1\n",
       "                                           2011    1\n",
       "FIRSTENERGY CORP                           2018    1\n",
       "                                           2017    1\n",
       "                                           2016    1\n",
       "ENTERGY CORP /DE/                          2018    1\n",
       "                                           2015    1\n",
       "CLEAN HARBORS INC                          2016    1\n",
       "DCP Midstream Partners, LP                 2016    1\n",
       "                                           2014    1\n",
       "DCP MIDSTREAM LP                           2013    1\n",
       "                                           2012    1\n",
       "                                           2011    1\n",
       "Clearway Energy, Inc.                      2020    1\n",
       "                                           2019    1\n",
       "Clean Energy Fuels Corp.                   2018    1\n",
       "                                           2017    1\n",
       "                                           2016    1\n",
       "CONSOLIDATED EDISON INC                    2018    1\n",
       "                                           2017    1\n",
       "                                           2016    1\n",
       "                                           2015    1\n",
       "                                           2014    1\n",
       "CONNECTICUT LIGHT & POWER CO               2014    1\n",
       "                                           2012    1\n",
       "                                           2011    1\n",
       "CONE Midstream Partners LP                 2016    1\n",
       "                                           2015    1\n",
       "COLUMBUS SOUTHERN POWER CO /OH/            2011    1\n",
       "CLEVELAND ELECTRIC ILLUMINATING CO         2012    1\n",
       "CLEAN HARBORS INC                          2018    1\n",
       "                                           2017    1\n",
       "DCP Midstream Partners, LP                 2015    1\n",
       "DCP Midstream, LP                          2017    1\n",
       "ENTERGY CORP /DE/                          2014    1\n",
       "DCP Midstream, LP                          2018    1\n",
       "EL PASO ELECTRIC CO /TX/                   2016    1\n",
       "                                           2015    1\n",
       "                                           2014    1\n",
       "                                           2013    1\n",
       "                                           2012    1\n",
       "EL PASO ELECTRIC CO                        2011    1\n",
       "EDISON INTERNATIONAL                       2018    1\n",
       "                                           2017    1\n",
       "                                           2016    1\n",
       "                                           2015    1\n",
       "                                           2014    1\n",
       "                                           2012    1\n",
       "                                           2011    1\n",
       "Duke Energy CORP                           2018    1\n",
       "                                           2017    1\n",
       "                                           2015    1\n",
       "                                           2014    1\n",
       "DUKE ENERGY PROGRESS, LLC.                 2016    1\n",
       "DOMINION ENERGY INC                        2018    1\n",
       "                                           2017    1\n",
       "                                           2016    1\n",
       "                                           2015    1\n",
       "                                           2014    1\n",
       "XCEL ENERGY INC                            2018    1\n",
       "dtype: int64"
      ]
     },
     "execution_count": 284,
     "metadata": {},
     "output_type": "execute_result"
    }
   ],
   "source": [
    "df5[['compamy_name','year']].value_counts()"
   ]
  },
  {
   "cell_type": "code",
   "execution_count": null,
   "metadata": {
    "id": "yj7Nu74fGOgR"
   },
   "outputs": [],
   "source": []
  },
  {
   "cell_type": "code",
   "execution_count": 285,
   "metadata": {
    "executionInfo": {
     "elapsed": 247,
     "status": "ok",
     "timestamp": 1665325929027,
     "user": {
      "displayName": "Chaitanya Madduri",
      "userId": "05909831547153523272"
     },
     "user_tz": -120
    },
    "id": "OXoNVzz_welW"
   },
   "outputs": [],
   "source": [
    "df3 = df5.copy()"
   ]
  },
  {
   "cell_type": "markdown",
   "metadata": {
    "id": "oHzW65eI0HHT"
   },
   "source": [
    "## Ranking the records for company with most restructuring effects"
   ]
  },
  {
   "cell_type": "code",
   "execution_count": 286,
   "metadata": {
    "colab": {
     "base_uri": "https://localhost:8080/",
     "height": 513
    },
    "executionInfo": {
     "elapsed": 228,
     "status": "ok",
     "timestamp": 1665325932717,
     "user": {
      "displayName": "Chaitanya Madduri",
      "userId": "05909831547153523272"
     },
     "user_tz": -120
    },
    "id": "-cGrq9b-xUsS",
    "outputId": "75baed19-a38e-450e-b420-6ba226cf1eda"
   },
   "outputs": [
    {
     "data": {
      "text/html": [
       "\n",
       "  <div id=\"df-9908235f-a1b5-4227-bd8f-ebba85949bb9\">\n",
       "    <div class=\"colab-df-container\">\n",
       "      <div>\n",
       "<style scoped>\n",
       "    .dataframe tbody tr th:only-of-type {\n",
       "        vertical-align: middle;\n",
       "    }\n",
       "\n",
       "    .dataframe tbody tr th {\n",
       "        vertical-align: top;\n",
       "    }\n",
       "\n",
       "    .dataframe thead th {\n",
       "        text-align: right;\n",
       "    }\n",
       "</style>\n",
       "<table border=\"1\" class=\"dataframe\">\n",
       "  <thead>\n",
       "    <tr style=\"text-align: right;\">\n",
       "      <th></th>\n",
       "      <th>Company_Key</th>\n",
       "      <th>Quarter_details</th>\n",
       "      <th>Year</th>\n",
       "      <th>filing_type</th>\n",
       "      <th>Text_data_cleaned</th>\n",
       "      <th>operation_percentage</th>\n",
       "      <th>negative_percentage</th>\n",
       "      <th>credit_percentage</th>\n",
       "      <th>compamy_name</th>\n",
       "      <th>year</th>\n",
       "      <th>profitability</th>\n",
       "      <th>Company_Name</th>\n",
       "      <th>profitability_next_1</th>\n",
       "      <th>profitability_next_2</th>\n",
       "      <th>profitability_next_3</th>\n",
       "      <th>change_next_1</th>\n",
       "      <th>change_next_2</th>\n",
       "      <th>change_next_3</th>\n",
       "      <th>isMissing</th>\n",
       "    </tr>\n",
       "  </thead>\n",
       "  <tbody>\n",
       "    <tr>\n",
       "      <th>48</th>\n",
       "      <td>92122</td>\n",
       "      <td>QTR1</td>\n",
       "      <td>2015</td>\n",
       "      <td>10-K</td>\n",
       "      <td>0000092122 000015 20150629 kx12312014 2014 nta...</td>\n",
       "      <td>0.020915</td>\n",
       "      <td>0.012591</td>\n",
       "      <td>0.002073</td>\n",
       "      <td>SOUTHERN CO</td>\n",
       "      <td>2015</td>\n",
       "      <td>0.0793</td>\n",
       "      <td>SOUTHERN CO</td>\n",
       "      <td>0.0735</td>\n",
       "      <td>0.0486</td>\n",
       "      <td>0.0489</td>\n",
       "      <td>-7.29</td>\n",
       "      <td>-38.74</td>\n",
       "      <td>-38.33</td>\n",
       "      <td>0</td>\n",
       "    </tr>\n",
       "    <tr>\n",
       "      <th>213</th>\n",
       "      <td>92122</td>\n",
       "      <td>QTR1</td>\n",
       "      <td>2016</td>\n",
       "      <td>10-K</td>\n",
       "      <td>0000092122 000126 20160226 kx12312015 ntabl co...</td>\n",
       "      <td>0.020484</td>\n",
       "      <td>0.012959</td>\n",
       "      <td>0.001905</td>\n",
       "      <td>SOUTHERN CO</td>\n",
       "      <td>2016</td>\n",
       "      <td>0.0735</td>\n",
       "      <td>SOUTHERN CO</td>\n",
       "      <td>0.0486</td>\n",
       "      <td>0.0489</td>\n",
       "      <td>0.1099</td>\n",
       "      <td>-33.93</td>\n",
       "      <td>-33.49</td>\n",
       "      <td>49.61</td>\n",
       "      <td>0</td>\n",
       "    </tr>\n",
       "    <tr>\n",
       "      <th>214</th>\n",
       "      <td>92122</td>\n",
       "      <td>QTR1</td>\n",
       "      <td>2017</td>\n",
       "      <td>10-K</td>\n",
       "      <td>0000092122 000007 20170222 kx12312016 ndocumen...</td>\n",
       "      <td>0.020260</td>\n",
       "      <td>0.012924</td>\n",
       "      <td>0.002614</td>\n",
       "      <td>ALABAMA POWER CO</td>\n",
       "      <td>2017</td>\n",
       "      <td>0.0486</td>\n",
       "      <td>SOUTHERN CO</td>\n",
       "      <td>0.0489</td>\n",
       "      <td>0.1099</td>\n",
       "      <td>0.1054</td>\n",
       "      <td>0.67</td>\n",
       "      <td>126.42</td>\n",
       "      <td>117.07</td>\n",
       "      <td>0</td>\n",
       "    </tr>\n",
       "    <tr>\n",
       "      <th>136</th>\n",
       "      <td>1161728</td>\n",
       "      <td>QTR1</td>\n",
       "      <td>2015</td>\n",
       "      <td>10-K</td>\n",
       "      <td>0001161728 000003 20150226 f10k 2014 form nfor...</td>\n",
       "      <td>0.020112</td>\n",
       "      <td>0.018483</td>\n",
       "      <td>0.001284</td>\n",
       "      <td>MGE ENERGY INC</td>\n",
       "      <td>2015</td>\n",
       "      <td>0.0266</td>\n",
       "      <td>MGE ENERGY INC</td>\n",
       "      <td>0.0403</td>\n",
       "      <td>0.0551</td>\n",
       "      <td>0.0346</td>\n",
       "      <td>51.44</td>\n",
       "      <td>107.03</td>\n",
       "      <td>29.89</td>\n",
       "      <td>0</td>\n",
       "    </tr>\n",
       "    <tr>\n",
       "      <th>47</th>\n",
       "      <td>92122</td>\n",
       "      <td>QTR1</td>\n",
       "      <td>2014</td>\n",
       "      <td>10-K</td>\n",
       "      <td>0000092122 000012 20140912 kx12312013 2013 nta...</td>\n",
       "      <td>0.020106</td>\n",
       "      <td>0.013023</td>\n",
       "      <td>0.002333</td>\n",
       "      <td>SOUTHERN CO</td>\n",
       "      <td>2014</td>\n",
       "      <td>0.0506</td>\n",
       "      <td>SOUTHERN CO</td>\n",
       "      <td>0.0793</td>\n",
       "      <td>0.0735</td>\n",
       "      <td>0.0486</td>\n",
       "      <td>56.55</td>\n",
       "      <td>45.14</td>\n",
       "      <td>-4.10</td>\n",
       "      <td>0</td>\n",
       "    </tr>\n",
       "  </tbody>\n",
       "</table>\n",
       "</div>\n",
       "      <button class=\"colab-df-convert\" onclick=\"convertToInteractive('df-9908235f-a1b5-4227-bd8f-ebba85949bb9')\"\n",
       "              title=\"Convert this dataframe to an interactive table.\"\n",
       "              style=\"display:none;\">\n",
       "        \n",
       "  <svg xmlns=\"http://www.w3.org/2000/svg\" height=\"24px\"viewBox=\"0 0 24 24\"\n",
       "       width=\"24px\">\n",
       "    <path d=\"M0 0h24v24H0V0z\" fill=\"none\"/>\n",
       "    <path d=\"M18.56 5.44l.94 2.06.94-2.06 2.06-.94-2.06-.94-.94-2.06-.94 2.06-2.06.94zm-11 1L8.5 8.5l.94-2.06 2.06-.94-2.06-.94L8.5 2.5l-.94 2.06-2.06.94zm10 10l.94 2.06.94-2.06 2.06-.94-2.06-.94-.94-2.06-.94 2.06-2.06.94z\"/><path d=\"M17.41 7.96l-1.37-1.37c-.4-.4-.92-.59-1.43-.59-.52 0-1.04.2-1.43.59L10.3 9.45l-7.72 7.72c-.78.78-.78 2.05 0 2.83L4 21.41c.39.39.9.59 1.41.59.51 0 1.02-.2 1.41-.59l7.78-7.78 2.81-2.81c.8-.78.8-2.07 0-2.86zM5.41 20L4 18.59l7.72-7.72 1.47 1.35L5.41 20z\"/>\n",
       "  </svg>\n",
       "      </button>\n",
       "      \n",
       "  <style>\n",
       "    .colab-df-container {\n",
       "      display:flex;\n",
       "      flex-wrap:wrap;\n",
       "      gap: 12px;\n",
       "    }\n",
       "\n",
       "    .colab-df-convert {\n",
       "      background-color: #E8F0FE;\n",
       "      border: none;\n",
       "      border-radius: 50%;\n",
       "      cursor: pointer;\n",
       "      display: none;\n",
       "      fill: #1967D2;\n",
       "      height: 32px;\n",
       "      padding: 0 0 0 0;\n",
       "      width: 32px;\n",
       "    }\n",
       "\n",
       "    .colab-df-convert:hover {\n",
       "      background-color: #E2EBFA;\n",
       "      box-shadow: 0px 1px 2px rgba(60, 64, 67, 0.3), 0px 1px 3px 1px rgba(60, 64, 67, 0.15);\n",
       "      fill: #174EA6;\n",
       "    }\n",
       "\n",
       "    [theme=dark] .colab-df-convert {\n",
       "      background-color: #3B4455;\n",
       "      fill: #D2E3FC;\n",
       "    }\n",
       "\n",
       "    [theme=dark] .colab-df-convert:hover {\n",
       "      background-color: #434B5C;\n",
       "      box-shadow: 0px 1px 3px 1px rgba(0, 0, 0, 0.15);\n",
       "      filter: drop-shadow(0px 1px 2px rgba(0, 0, 0, 0.3));\n",
       "      fill: #FFFFFF;\n",
       "    }\n",
       "  </style>\n",
       "\n",
       "      <script>\n",
       "        const buttonEl =\n",
       "          document.querySelector('#df-9908235f-a1b5-4227-bd8f-ebba85949bb9 button.colab-df-convert');\n",
       "        buttonEl.style.display =\n",
       "          google.colab.kernel.accessAllowed ? 'block' : 'none';\n",
       "\n",
       "        async function convertToInteractive(key) {\n",
       "          const element = document.querySelector('#df-9908235f-a1b5-4227-bd8f-ebba85949bb9');\n",
       "          const dataTable =\n",
       "            await google.colab.kernel.invokeFunction('convertToInteractive',\n",
       "                                                     [key], {});\n",
       "          if (!dataTable) return;\n",
       "\n",
       "          const docLinkHtml = 'Like what you see? Visit the ' +\n",
       "            '<a target=\"_blank\" href=https://colab.research.google.com/notebooks/data_table.ipynb>data table notebook</a>'\n",
       "            + ' to learn more about interactive tables.';\n",
       "          element.innerHTML = '';\n",
       "          dataTable['output_type'] = 'display_data';\n",
       "          await google.colab.output.renderOutput(dataTable, element);\n",
       "          const docLink = document.createElement('div');\n",
       "          docLink.innerHTML = docLinkHtml;\n",
       "          element.appendChild(docLink);\n",
       "        }\n",
       "      </script>\n",
       "    </div>\n",
       "  </div>\n",
       "  "
      ],
      "text/plain": [
       "     Company_Key Quarter_details  Year filing_type  \\\n",
       "48         92122            QTR1  2015        10-K   \n",
       "213        92122            QTR1  2016        10-K   \n",
       "214        92122            QTR1  2017        10-K   \n",
       "136      1161728            QTR1  2015        10-K   \n",
       "47         92122            QTR1  2014        10-K   \n",
       "\n",
       "                                     Text_data_cleaned  operation_percentage  \\\n",
       "48   0000092122 000015 20150629 kx12312014 2014 nta...              0.020915   \n",
       "213  0000092122 000126 20160226 kx12312015 ntabl co...              0.020484   \n",
       "214  0000092122 000007 20170222 kx12312016 ndocumen...              0.020260   \n",
       "136  0001161728 000003 20150226 f10k 2014 form nfor...              0.020112   \n",
       "47   0000092122 000012 20140912 kx12312013 2013 nta...              0.020106   \n",
       "\n",
       "     negative_percentage  credit_percentage      compamy_name  year  \\\n",
       "48              0.012591           0.002073       SOUTHERN CO  2015   \n",
       "213             0.012959           0.001905       SOUTHERN CO  2016   \n",
       "214             0.012924           0.002614  ALABAMA POWER CO  2017   \n",
       "136             0.018483           0.001284    MGE ENERGY INC  2015   \n",
       "47              0.013023           0.002333       SOUTHERN CO  2014   \n",
       "\n",
       "     profitability    Company_Name  profitability_next_1  \\\n",
       "48          0.0793     SOUTHERN CO                0.0735   \n",
       "213         0.0735     SOUTHERN CO                0.0486   \n",
       "214         0.0486     SOUTHERN CO                0.0489   \n",
       "136         0.0266  MGE ENERGY INC                0.0403   \n",
       "47          0.0506     SOUTHERN CO                0.0793   \n",
       "\n",
       "     profitability_next_2  profitability_next_3  change_next_1  change_next_2  \\\n",
       "48                 0.0486                0.0489          -7.29         -38.74   \n",
       "213                0.0489                0.1099         -33.93         -33.49   \n",
       "214                0.1099                0.1054           0.67         126.42   \n",
       "136                0.0551                0.0346          51.44         107.03   \n",
       "47                 0.0735                0.0486          56.55          45.14   \n",
       "\n",
       "     change_next_3  isMissing  \n",
       "48          -38.33          0  \n",
       "213          49.61          0  \n",
       "214         117.07          0  \n",
       "136          29.89          0  \n",
       "47           -4.10          0  "
      ]
     },
     "execution_count": 286,
     "metadata": {},
     "output_type": "execute_result"
    }
   ],
   "source": [
    "# sort the records of the dataframe based on the operation_percentage (which emphasizes the restructuring effects) \n",
    "\n",
    "re_cpm_df = df3.sort_values(\"operation_percentage\", ascending=False)\n",
    "re_cpm_df.head()"
   ]
  },
  {
   "cell_type": "code",
   "execution_count": null,
   "metadata": {
    "id": "fzvRZ7xU0iHS"
   },
   "outputs": [],
   "source": [
    "# droping the duplicates\n",
    "# re_cpm_df.drop_duplicates( keep='last', inplace=True)"
   ]
  },
  {
   "cell_type": "code",
   "execution_count": 287,
   "metadata": {
    "executionInfo": {
     "elapsed": 328,
     "status": "ok",
     "timestamp": 1665325937583,
     "user": {
      "displayName": "Chaitanya Madduri",
      "userId": "05909831547153523272"
     },
     "user_tz": -120
    },
    "id": "VUY9QjnFyFZC"
   },
   "outputs": [],
   "source": [
    "re_cpm_df.reset_index(drop=True, inplace=True)\n",
    "# re_cpm_df = re_cpm_df.head(round(re_cpm_df.shape[0] * 0.3))"
   ]
  },
  {
   "cell_type": "code",
   "execution_count": 288,
   "metadata": {
    "executionInfo": {
     "elapsed": 358,
     "status": "ok",
     "timestamp": 1665325939797,
     "user": {
      "displayName": "Chaitanya Madduri",
      "userId": "05909831547153523272"
     },
     "user_tz": -120
    },
    "id": "LUPXTk1DzKlg"
   },
   "outputs": [],
   "source": [
    "re_cpm_df['is_restructuring'] = 0"
   ]
  },
  {
   "cell_type": "code",
   "execution_count": 289,
   "metadata": {
    "colab": {
     "base_uri": "https://localhost:8080/"
    },
    "executionInfo": {
     "elapsed": 227,
     "status": "ok",
     "timestamp": 1665325966558,
     "user": {
      "displayName": "Chaitanya Madduri",
      "userId": "05909831547153523272"
     },
     "user_tz": -120
    },
    "id": "nE0f15d3yrGf",
    "outputId": "204bf90e-eb5a-4135-c8ca-9508ef728eea"
   },
   "outputs": [
    {
     "name": "stderr",
     "output_type": "stream",
     "text": [
      "/usr/local/lib/python3.7/dist-packages/ipykernel_launcher.py:1: SettingWithCopyWarning: \n",
      "A value is trying to be set on a copy of a slice from a DataFrame.\n",
      "Try using .loc[row_indexer,col_indexer] = value instead\n",
      "\n",
      "See the caveats in the documentation: https://pandas.pydata.org/pandas-docs/stable/user_guide/indexing.html#returning-a-view-versus-a-copy\n",
      "  \"\"\"Entry point for launching an IPython kernel.\n"
     ]
    }
   ],
   "source": [
    "re_cpm_df[:round(re_cpm_df.shape[0] * 0.3)+1]['is_restructuring'] = 1"
   ]
  },
  {
   "cell_type": "code",
   "execution_count": 290,
   "metadata": {
    "colab": {
     "base_uri": "https://localhost:8080/",
     "height": 496
    },
    "executionInfo": {
     "elapsed": 225,
     "status": "ok",
     "timestamp": 1665325969020,
     "user": {
      "displayName": "Chaitanya Madduri",
      "userId": "05909831547153523272"
     },
     "user_tz": -120
    },
    "id": "ca-zpZlay5Yh",
    "outputId": "285294ee-4f5f-495f-ed38-4708a4280aef"
   },
   "outputs": [
    {
     "data": {
      "text/html": [
       "\n",
       "  <div id=\"df-ead97aec-a500-46a4-8cfd-06efe2ddbb8b\">\n",
       "    <div class=\"colab-df-container\">\n",
       "      <div>\n",
       "<style scoped>\n",
       "    .dataframe tbody tr th:only-of-type {\n",
       "        vertical-align: middle;\n",
       "    }\n",
       "\n",
       "    .dataframe tbody tr th {\n",
       "        vertical-align: top;\n",
       "    }\n",
       "\n",
       "    .dataframe thead th {\n",
       "        text-align: right;\n",
       "    }\n",
       "</style>\n",
       "<table border=\"1\" class=\"dataframe\">\n",
       "  <thead>\n",
       "    <tr style=\"text-align: right;\">\n",
       "      <th></th>\n",
       "      <th>Company_Key</th>\n",
       "      <th>Quarter_details</th>\n",
       "      <th>Year</th>\n",
       "      <th>filing_type</th>\n",
       "      <th>Text_data_cleaned</th>\n",
       "      <th>operation_percentage</th>\n",
       "      <th>negative_percentage</th>\n",
       "      <th>credit_percentage</th>\n",
       "      <th>compamy_name</th>\n",
       "      <th>year</th>\n",
       "      <th>profitability</th>\n",
       "      <th>Company_Name</th>\n",
       "      <th>profitability_next_1</th>\n",
       "      <th>profitability_next_2</th>\n",
       "      <th>profitability_next_3</th>\n",
       "      <th>change_next_1</th>\n",
       "      <th>change_next_2</th>\n",
       "      <th>change_next_3</th>\n",
       "      <th>isMissing</th>\n",
       "      <th>is_restructuring</th>\n",
       "    </tr>\n",
       "  </thead>\n",
       "  <tbody>\n",
       "    <tr>\n",
       "      <th>426</th>\n",
       "      <td>1047862</td>\n",
       "      <td>NaN</td>\n",
       "      <td>2015</td>\n",
       "      <td>NaN</td>\n",
       "      <td>0001193125 054350 20150219 d821872d10k ntabl c...</td>\n",
       "      <td>0.005090</td>\n",
       "      <td>NaN</td>\n",
       "      <td>0.000705</td>\n",
       "      <td>CONSOLIDATED EDISON INC</td>\n",
       "      <td>2015</td>\n",
       "      <td>0.0052</td>\n",
       "      <td>CONSOLIDATED EDISON INC</td>\n",
       "      <td>0.0194</td>\n",
       "      <td>0.0405</td>\n",
       "      <td>0.0307</td>\n",
       "      <td>270.40</td>\n",
       "      <td>672.82</td>\n",
       "      <td>484.99</td>\n",
       "      <td>0</td>\n",
       "      <td>0</td>\n",
       "    </tr>\n",
       "    <tr>\n",
       "      <th>427</th>\n",
       "      <td>1130310</td>\n",
       "      <td>QTR1</td>\n",
       "      <td>2011</td>\n",
       "      <td>10-K</td>\n",
       "      <td>0001130310 000015 20110325 tbcform10 form dece...</td>\n",
       "      <td>0.004764</td>\n",
       "      <td>0.016883</td>\n",
       "      <td>0.019641</td>\n",
       "      <td>CENTERPOINT ENERGY TRANSITION BOND CO LLC</td>\n",
       "      <td>2011</td>\n",
       "      <td>0.0625</td>\n",
       "      <td>CENTERPOINT ENERGY INC</td>\n",
       "      <td>0.0219</td>\n",
       "      <td>-0.0303</td>\n",
       "      <td>-0.0300</td>\n",
       "      <td>-64.96</td>\n",
       "      <td>-148.42</td>\n",
       "      <td>-147.95</td>\n",
       "      <td>0</td>\n",
       "      <td>0</td>\n",
       "    </tr>\n",
       "    <tr>\n",
       "      <th>428</th>\n",
       "      <td>891532</td>\n",
       "      <td>NaN</td>\n",
       "      <td>2015</td>\n",
       "      <td>NaN</td>\n",
       "      <td>0001437749 006469 20150331 perma20141231 form ...</td>\n",
       "      <td>0.004485</td>\n",
       "      <td>NaN</td>\n",
       "      <td>0.000983</td>\n",
       "      <td>PERMA-FIX ENVIRONMENTAL SVCS</td>\n",
       "      <td>2015</td>\n",
       "      <td>-0.0631</td>\n",
       "      <td>PERMA FIX ENVIRONMENTAL SERVICES INC</td>\n",
       "      <td>-0.1442</td>\n",
       "      <td>-0.0977</td>\n",
       "      <td>-0.0946</td>\n",
       "      <td>128.54</td>\n",
       "      <td>54.83</td>\n",
       "      <td>49.83</td>\n",
       "      <td>0</td>\n",
       "      <td>0</td>\n",
       "    </tr>\n",
       "    <tr>\n",
       "      <th>429</th>\n",
       "      <td>922224</td>\n",
       "      <td>QTR1</td>\n",
       "      <td>2011</td>\n",
       "      <td>10-K</td>\n",
       "      <td>nproc type 2001 clear norigin name webmast nor...</td>\n",
       "      <td>0.003952</td>\n",
       "      <td>0.010891</td>\n",
       "      <td>0.018184</td>\n",
       "      <td>PPL ELECTRIC UTILITIES CORP</td>\n",
       "      <td>2011</td>\n",
       "      <td>0.0478</td>\n",
       "      <td>PPL CORP</td>\n",
       "      <td>0.0574</td>\n",
       "      <td>0.0544</td>\n",
       "      <td>0.0969</td>\n",
       "      <td>20.14</td>\n",
       "      <td>13.91</td>\n",
       "      <td>102.99</td>\n",
       "      <td>0</td>\n",
       "      <td>0</td>\n",
       "    </tr>\n",
       "    <tr>\n",
       "      <th>430</th>\n",
       "      <td>727273</td>\n",
       "      <td>QTR1</td>\n",
       "      <td>2013</td>\n",
       "      <td>10-K</td>\n",
       "      <td>0000727273 000008 20130315 form10k 2012 form y...</td>\n",
       "      <td>0.003845</td>\n",
       "      <td>0.014303</td>\n",
       "      <td>0.006961</td>\n",
       "      <td>CADIZ INC</td>\n",
       "      <td>2013</td>\n",
       "      <td>-24.7789</td>\n",
       "      <td>CADIZ INC</td>\n",
       "      <td>-17.5245</td>\n",
       "      <td>-25.1521</td>\n",
       "      <td>-16.9822</td>\n",
       "      <td>-29.28</td>\n",
       "      <td>1.51</td>\n",
       "      <td>-31.47</td>\n",
       "      <td>0</td>\n",
       "      <td>0</td>\n",
       "    </tr>\n",
       "  </tbody>\n",
       "</table>\n",
       "</div>\n",
       "      <button class=\"colab-df-convert\" onclick=\"convertToInteractive('df-ead97aec-a500-46a4-8cfd-06efe2ddbb8b')\"\n",
       "              title=\"Convert this dataframe to an interactive table.\"\n",
       "              style=\"display:none;\">\n",
       "        \n",
       "  <svg xmlns=\"http://www.w3.org/2000/svg\" height=\"24px\"viewBox=\"0 0 24 24\"\n",
       "       width=\"24px\">\n",
       "    <path d=\"M0 0h24v24H0V0z\" fill=\"none\"/>\n",
       "    <path d=\"M18.56 5.44l.94 2.06.94-2.06 2.06-.94-2.06-.94-.94-2.06-.94 2.06-2.06.94zm-11 1L8.5 8.5l.94-2.06 2.06-.94-2.06-.94L8.5 2.5l-.94 2.06-2.06.94zm10 10l.94 2.06.94-2.06 2.06-.94-2.06-.94-.94-2.06-.94 2.06-2.06.94z\"/><path d=\"M17.41 7.96l-1.37-1.37c-.4-.4-.92-.59-1.43-.59-.52 0-1.04.2-1.43.59L10.3 9.45l-7.72 7.72c-.78.78-.78 2.05 0 2.83L4 21.41c.39.39.9.59 1.41.59.51 0 1.02-.2 1.41-.59l7.78-7.78 2.81-2.81c.8-.78.8-2.07 0-2.86zM5.41 20L4 18.59l7.72-7.72 1.47 1.35L5.41 20z\"/>\n",
       "  </svg>\n",
       "      </button>\n",
       "      \n",
       "  <style>\n",
       "    .colab-df-container {\n",
       "      display:flex;\n",
       "      flex-wrap:wrap;\n",
       "      gap: 12px;\n",
       "    }\n",
       "\n",
       "    .colab-df-convert {\n",
       "      background-color: #E8F0FE;\n",
       "      border: none;\n",
       "      border-radius: 50%;\n",
       "      cursor: pointer;\n",
       "      display: none;\n",
       "      fill: #1967D2;\n",
       "      height: 32px;\n",
       "      padding: 0 0 0 0;\n",
       "      width: 32px;\n",
       "    }\n",
       "\n",
       "    .colab-df-convert:hover {\n",
       "      background-color: #E2EBFA;\n",
       "      box-shadow: 0px 1px 2px rgba(60, 64, 67, 0.3), 0px 1px 3px 1px rgba(60, 64, 67, 0.15);\n",
       "      fill: #174EA6;\n",
       "    }\n",
       "\n",
       "    [theme=dark] .colab-df-convert {\n",
       "      background-color: #3B4455;\n",
       "      fill: #D2E3FC;\n",
       "    }\n",
       "\n",
       "    [theme=dark] .colab-df-convert:hover {\n",
       "      background-color: #434B5C;\n",
       "      box-shadow: 0px 1px 3px 1px rgba(0, 0, 0, 0.15);\n",
       "      filter: drop-shadow(0px 1px 2px rgba(0, 0, 0, 0.3));\n",
       "      fill: #FFFFFF;\n",
       "    }\n",
       "  </style>\n",
       "\n",
       "      <script>\n",
       "        const buttonEl =\n",
       "          document.querySelector('#df-ead97aec-a500-46a4-8cfd-06efe2ddbb8b button.colab-df-convert');\n",
       "        buttonEl.style.display =\n",
       "          google.colab.kernel.accessAllowed ? 'block' : 'none';\n",
       "\n",
       "        async function convertToInteractive(key) {\n",
       "          const element = document.querySelector('#df-ead97aec-a500-46a4-8cfd-06efe2ddbb8b');\n",
       "          const dataTable =\n",
       "            await google.colab.kernel.invokeFunction('convertToInteractive',\n",
       "                                                     [key], {});\n",
       "          if (!dataTable) return;\n",
       "\n",
       "          const docLinkHtml = 'Like what you see? Visit the ' +\n",
       "            '<a target=\"_blank\" href=https://colab.research.google.com/notebooks/data_table.ipynb>data table notebook</a>'\n",
       "            + ' to learn more about interactive tables.';\n",
       "          element.innerHTML = '';\n",
       "          dataTable['output_type'] = 'display_data';\n",
       "          await google.colab.output.renderOutput(dataTable, element);\n",
       "          const docLink = document.createElement('div');\n",
       "          docLink.innerHTML = docLinkHtml;\n",
       "          element.appendChild(docLink);\n",
       "        }\n",
       "      </script>\n",
       "    </div>\n",
       "  </div>\n",
       "  "
      ],
      "text/plain": [
       "     Company_Key Quarter_details  Year filing_type  \\\n",
       "426      1047862             NaN  2015         NaN   \n",
       "427      1130310            QTR1  2011        10-K   \n",
       "428       891532             NaN  2015         NaN   \n",
       "429       922224            QTR1  2011        10-K   \n",
       "430       727273            QTR1  2013        10-K   \n",
       "\n",
       "                                     Text_data_cleaned  operation_percentage  \\\n",
       "426  0001193125 054350 20150219 d821872d10k ntabl c...              0.005090   \n",
       "427  0001130310 000015 20110325 tbcform10 form dece...              0.004764   \n",
       "428  0001437749 006469 20150331 perma20141231 form ...              0.004485   \n",
       "429  nproc type 2001 clear norigin name webmast nor...              0.003952   \n",
       "430  0000727273 000008 20130315 form10k 2012 form y...              0.003845   \n",
       "\n",
       "     negative_percentage  credit_percentage  \\\n",
       "426                  NaN           0.000705   \n",
       "427             0.016883           0.019641   \n",
       "428                  NaN           0.000983   \n",
       "429             0.010891           0.018184   \n",
       "430             0.014303           0.006961   \n",
       "\n",
       "                                  compamy_name  year  profitability  \\\n",
       "426                    CONSOLIDATED EDISON INC  2015         0.0052   \n",
       "427  CENTERPOINT ENERGY TRANSITION BOND CO LLC  2011         0.0625   \n",
       "428               PERMA-FIX ENVIRONMENTAL SVCS  2015        -0.0631   \n",
       "429                PPL ELECTRIC UTILITIES CORP  2011         0.0478   \n",
       "430                                  CADIZ INC  2013       -24.7789   \n",
       "\n",
       "                             Company_Name  profitability_next_1  \\\n",
       "426               CONSOLIDATED EDISON INC                0.0194   \n",
       "427                CENTERPOINT ENERGY INC                0.0219   \n",
       "428  PERMA FIX ENVIRONMENTAL SERVICES INC               -0.1442   \n",
       "429                              PPL CORP                0.0574   \n",
       "430                             CADIZ INC              -17.5245   \n",
       "\n",
       "     profitability_next_2  profitability_next_3  change_next_1  change_next_2  \\\n",
       "426                0.0405                0.0307         270.40         672.82   \n",
       "427               -0.0303               -0.0300         -64.96        -148.42   \n",
       "428               -0.0977               -0.0946         128.54          54.83   \n",
       "429                0.0544                0.0969          20.14          13.91   \n",
       "430              -25.1521              -16.9822         -29.28           1.51   \n",
       "\n",
       "     change_next_3  isMissing  is_restructuring  \n",
       "426         484.99          0                 0  \n",
       "427        -147.95          0                 0  \n",
       "428          49.83          0                 0  \n",
       "429         102.99          0                 0  \n",
       "430         -31.47          0                 0  "
      ]
     },
     "execution_count": 290,
     "metadata": {},
     "output_type": "execute_result"
    }
   ],
   "source": [
    "re_cpm_df.tail()"
   ]
  },
  {
   "cell_type": "code",
   "execution_count": 295,
   "metadata": {
    "colab": {
     "base_uri": "https://localhost:8080/"
    },
    "executionInfo": {
     "elapsed": 266,
     "status": "ok",
     "timestamp": 1665326308807,
     "user": {
      "displayName": "Chaitanya Madduri",
      "userId": "05909831547153523272"
     },
     "user_tz": -120
    },
    "id": "tpTmgWFPLmDv",
    "outputId": "423319ad-177d-4f9a-ea7d-9ba46a58cb48"
   },
   "outputs": [
    {
     "data": {
      "text/plain": [
       "count    431.000000\n",
       "mean       0.012522\n",
       "std        0.003490\n",
       "min        0.003845\n",
       "25%        0.009685\n",
       "50%        0.012291\n",
       "75%        0.015109\n",
       "max        0.020915\n",
       "Name: operation_percentage, dtype: float64"
      ]
     },
     "execution_count": 295,
     "metadata": {},
     "output_type": "execute_result"
    }
   ],
   "source": [
    "re_cpm_df['operation_percentage'].describe()"
   ]
  },
  {
   "cell_type": "code",
   "execution_count": 296,
   "metadata": {
    "colab": {
     "base_uri": "https://localhost:8080/"
    },
    "executionInfo": {
     "elapsed": 220,
     "status": "ok",
     "timestamp": 1665326364309,
     "user": {
      "displayName": "Chaitanya Madduri",
      "userId": "05909831547153523272"
     },
     "user_tz": -120
    },
    "id": "gb9fwKo4LmAV",
    "outputId": "f7117af5-f178-47f6-87bd-1b5e4d1adec1"
   },
   "outputs": [
    {
     "data": {
      "text/plain": [
       "count    130.000000\n",
       "mean       0.016723\n",
       "std        0.001568\n",
       "min        0.014719\n",
       "25%        0.015368\n",
       "50%        0.016391\n",
       "75%        0.018031\n",
       "max        0.020915\n",
       "Name: operation_percentage, dtype: float64"
      ]
     },
     "execution_count": 296,
     "metadata": {},
     "output_type": "execute_result"
    }
   ],
   "source": [
    "re_cpm_df[re_cpm_df['is_restructuring']==1]['operation_percentage'].describe()"
   ]
  },
  {
   "cell_type": "code",
   "execution_count": 297,
   "metadata": {
    "colab": {
     "base_uri": "https://localhost:8080/",
     "height": 282
    },
    "executionInfo": {
     "elapsed": 668,
     "status": "ok",
     "timestamp": 1665326418105,
     "user": {
      "displayName": "Chaitanya Madduri",
      "userId": "05909831547153523272"
     },
     "user_tz": -120
    },
    "id": "cFhtOhVgLl94",
    "outputId": "f4861a68-e072-4bc2-ec78-389e46dadc37"
   },
   "outputs": [
    {
     "data": {
      "text/plain": [
       "<matplotlib.axes._subplots.AxesSubplot at 0x7fae761d5cd0>"
      ]
     },
     "execution_count": 297,
     "metadata": {},
     "output_type": "execute_result"
    },
    {
     "data": {
      "image/png": "[encoded data removed]",
      "text/plain": [
       "<Figure size 432x288 with 1 Axes>"
      ]
     },
     "metadata": {
      "needs_background": "light"
     },
     "output_type": "display_data"
    }
   ],
   "source": [
    "re_cpm_df['operation_percentage'].hist()"
   ]
  },
  {
   "cell_type": "code",
   "execution_count": 291,
   "metadata": {
    "colab": {
     "base_uri": "https://localhost:8080/"
    },
    "executionInfo": {
     "elapsed": 231,
     "status": "ok",
     "timestamp": 1665325971429,
     "user": {
      "displayName": "Chaitanya Madduri",
      "userId": "05909831547153523272"
     },
     "user_tz": -120
    },
    "id": "6mu9BddbfIZr",
    "outputId": "98128c9b-d42d-4e97-c870-5e5d18bb279b"
   },
   "outputs": [
    {
     "data": {
      "text/plain": [
       "Index(['Company_Key', 'Quarter_details', 'Year', 'filing_type',\n",
       "       'Text_data_cleaned', 'operation_percentage', 'negative_percentage',\n",
       "       'credit_percentage', 'compamy_name', 'year', 'profitability',\n",
       "       'Company_Name', 'profitability_next_1', 'profitability_next_2',\n",
       "       'profitability_next_3', 'change_next_1', 'change_next_2',\n",
       "       'change_next_3', 'isMissing', 'is_restructuring'],\n",
       "      dtype='object')"
      ]
     },
     "execution_count": 291,
     "metadata": {},
     "output_type": "execute_result"
    }
   ],
   "source": [
    "re_cpm_df.columns"
   ]
  },
  {
   "cell_type": "code",
   "execution_count": 292,
   "metadata": {
    "executionInfo": {
     "elapsed": 218,
     "status": "ok",
     "timestamp": 1665325973697,
     "user": {
      "displayName": "Chaitanya Madduri",
      "userId": "05909831547153523272"
     },
     "user_tz": -120
    },
    "id": "-2HmBR3RfMjo"
   },
   "outputs": [],
   "source": [
    "col = ['Company_Key', 'Quarter_details', 'Year', 'filing_type',\n",
    "        'operation_percentage', 'negative_percentage',\n",
    "       'credit_percentage', 'compamy_name', 'profitability',\n",
    "        'profitability_next_1', 'profitability_next_2',\n",
    "       'profitability_next_3', 'change_next_1', 'change_next_2',\n",
    "       'change_next_3',  'is_restructuring']"
   ]
  },
  {
   "cell_type": "code",
   "execution_count": 293,
   "metadata": {
    "colab": {
     "base_uri": "https://localhost:8080/",
     "height": 211
    },
    "executionInfo": {
     "elapsed": 225,
     "status": "ok",
     "timestamp": 1665325977691,
     "user": {
      "displayName": "Chaitanya Madduri",
      "userId": "05909831547153523272"
     },
     "user_tz": -120
    },
    "id": "py_CwMhdfdig",
    "outputId": "c7be6d97-debc-4663-9ce5-5a22d17eb324"
   },
   "outputs": [
    {
     "data": {
      "text/html": [
       "\n",
       "  <div id=\"df-29f09233-e586-4a66-9a10-e181c0357211\">\n",
       "    <div class=\"colab-df-container\">\n",
       "      <div>\n",
       "<style scoped>\n",
       "    .dataframe tbody tr th:only-of-type {\n",
       "        vertical-align: middle;\n",
       "    }\n",
       "\n",
       "    .dataframe tbody tr th {\n",
       "        vertical-align: top;\n",
       "    }\n",
       "\n",
       "    .dataframe thead th {\n",
       "        text-align: right;\n",
       "    }\n",
       "</style>\n",
       "<table border=\"1\" class=\"dataframe\">\n",
       "  <thead>\n",
       "    <tr style=\"text-align: right;\">\n",
       "      <th></th>\n",
       "      <th>Company_Key</th>\n",
       "      <th>Quarter_details</th>\n",
       "      <th>Year</th>\n",
       "      <th>filing_type</th>\n",
       "      <th>operation_percentage</th>\n",
       "      <th>negative_percentage</th>\n",
       "      <th>credit_percentage</th>\n",
       "      <th>compamy_name</th>\n",
       "      <th>profitability</th>\n",
       "      <th>profitability_next_1</th>\n",
       "      <th>profitability_next_2</th>\n",
       "      <th>profitability_next_3</th>\n",
       "      <th>change_next_1</th>\n",
       "      <th>change_next_2</th>\n",
       "      <th>change_next_3</th>\n",
       "      <th>is_restructuring</th>\n",
       "    </tr>\n",
       "  </thead>\n",
       "  <tbody>\n",
       "    <tr>\n",
       "      <th>0</th>\n",
       "      <td>92122</td>\n",
       "      <td>QTR1</td>\n",
       "      <td>2015</td>\n",
       "      <td>10-K</td>\n",
       "      <td>0.020915</td>\n",
       "      <td>0.012591</td>\n",
       "      <td>0.002073</td>\n",
       "      <td>SOUTHERN CO</td>\n",
       "      <td>0.0793</td>\n",
       "      <td>0.0735</td>\n",
       "      <td>0.0486</td>\n",
       "      <td>0.0489</td>\n",
       "      <td>-7.29</td>\n",
       "      <td>-38.74</td>\n",
       "      <td>-38.33</td>\n",
       "      <td>1</td>\n",
       "    </tr>\n",
       "    <tr>\n",
       "      <th>1</th>\n",
       "      <td>92122</td>\n",
       "      <td>QTR1</td>\n",
       "      <td>2016</td>\n",
       "      <td>10-K</td>\n",
       "      <td>0.020484</td>\n",
       "      <td>0.012959</td>\n",
       "      <td>0.001905</td>\n",
       "      <td>SOUTHERN CO</td>\n",
       "      <td>0.0735</td>\n",
       "      <td>0.0486</td>\n",
       "      <td>0.0489</td>\n",
       "      <td>0.1099</td>\n",
       "      <td>-33.93</td>\n",
       "      <td>-33.49</td>\n",
       "      <td>49.61</td>\n",
       "      <td>1</td>\n",
       "    </tr>\n",
       "  </tbody>\n",
       "</table>\n",
       "</div>\n",
       "      <button class=\"colab-df-convert\" onclick=\"convertToInteractive('df-29f09233-e586-4a66-9a10-e181c0357211')\"\n",
       "              title=\"Convert this dataframe to an interactive table.\"\n",
       "              style=\"display:none;\">\n",
       "        \n",
       "  <svg xmlns=\"http://www.w3.org/2000/svg\" height=\"24px\"viewBox=\"0 0 24 24\"\n",
       "       width=\"24px\">\n",
       "    <path d=\"M0 0h24v24H0V0z\" fill=\"none\"/>\n",
       "    <path d=\"M18.56 5.44l.94 2.06.94-2.06 2.06-.94-2.06-.94-.94-2.06-.94 2.06-2.06.94zm-11 1L8.5 8.5l.94-2.06 2.06-.94-2.06-.94L8.5 2.5l-.94 2.06-2.06.94zm10 10l.94 2.06.94-2.06 2.06-.94-2.06-.94-.94-2.06-.94 2.06-2.06.94z\"/><path d=\"M17.41 7.96l-1.37-1.37c-.4-.4-.92-.59-1.43-.59-.52 0-1.04.2-1.43.59L10.3 9.45l-7.72 7.72c-.78.78-.78 2.05 0 2.83L4 21.41c.39.39.9.59 1.41.59.51 0 1.02-.2 1.41-.59l7.78-7.78 2.81-2.81c.8-.78.8-2.07 0-2.86zM5.41 20L4 18.59l7.72-7.72 1.47 1.35L5.41 20z\"/>\n",
       "  </svg>\n",
       "      </button>\n",
       "      \n",
       "  <style>\n",
       "    .colab-df-container {\n",
       "      display:flex;\n",
       "      flex-wrap:wrap;\n",
       "      gap: 12px;\n",
       "    }\n",
       "\n",
       "    .colab-df-convert {\n",
       "      background-color: #E8F0FE;\n",
       "      border: none;\n",
       "      border-radius: 50%;\n",
       "      cursor: pointer;\n",
       "      display: none;\n",
       "      fill: #1967D2;\n",
       "      height: 32px;\n",
       "      padding: 0 0 0 0;\n",
       "      width: 32px;\n",
       "    }\n",
       "\n",
       "    .colab-df-convert:hover {\n",
       "      background-color: #E2EBFA;\n",
       "      box-shadow: 0px 1px 2px rgba(60, 64, 67, 0.3), 0px 1px 3px 1px rgba(60, 64, 67, 0.15);\n",
       "      fill: #174EA6;\n",
       "    }\n",
       "\n",
       "    [theme=dark] .colab-df-convert {\n",
       "      background-color: #3B4455;\n",
       "      fill: #D2E3FC;\n",
       "    }\n",
       "\n",
       "    [theme=dark] .colab-df-convert:hover {\n",
       "      background-color: #434B5C;\n",
       "      box-shadow: 0px 1px 3px 1px rgba(0, 0, 0, 0.15);\n",
       "      filter: drop-shadow(0px 1px 2px rgba(0, 0, 0, 0.3));\n",
       "      fill: #FFFFFF;\n",
       "    }\n",
       "  </style>\n",
       "\n",
       "      <script>\n",
       "        const buttonEl =\n",
       "          document.querySelector('#df-29f09233-e586-4a66-9a10-e181c0357211 button.colab-df-convert');\n",
       "        buttonEl.style.display =\n",
       "          google.colab.kernel.accessAllowed ? 'block' : 'none';\n",
       "\n",
       "        async function convertToInteractive(key) {\n",
       "          const element = document.querySelector('#df-29f09233-e586-4a66-9a10-e181c0357211');\n",
       "          const dataTable =\n",
       "            await google.colab.kernel.invokeFunction('convertToInteractive',\n",
       "                                                     [key], {});\n",
       "          if (!dataTable) return;\n",
       "\n",
       "          const docLinkHtml = 'Like what you see? Visit the ' +\n",
       "            '<a target=\"_blank\" href=https://colab.research.google.com/notebooks/data_table.ipynb>data table notebook</a>'\n",
       "            + ' to learn more about interactive tables.';\n",
       "          element.innerHTML = '';\n",
       "          dataTable['output_type'] = 'display_data';\n",
       "          await google.colab.output.renderOutput(dataTable, element);\n",
       "          const docLink = document.createElement('div');\n",
       "          docLink.innerHTML = docLinkHtml;\n",
       "          element.appendChild(docLink);\n",
       "        }\n",
       "      </script>\n",
       "    </div>\n",
       "  </div>\n",
       "  "
      ],
      "text/plain": [
       "   Company_Key Quarter_details  Year filing_type  operation_percentage  \\\n",
       "0        92122            QTR1  2015        10-K              0.020915   \n",
       "1        92122            QTR1  2016        10-K              0.020484   \n",
       "\n",
       "   negative_percentage  credit_percentage compamy_name  profitability  \\\n",
       "0             0.012591           0.002073  SOUTHERN CO         0.0793   \n",
       "1             0.012959           0.001905  SOUTHERN CO         0.0735   \n",
       "\n",
       "   profitability_next_1  profitability_next_2  profitability_next_3  \\\n",
       "0                0.0735                0.0486                0.0489   \n",
       "1                0.0486                0.0489                0.1099   \n",
       "\n",
       "   change_next_1  change_next_2  change_next_3  is_restructuring  \n",
       "0          -7.29         -38.74         -38.33                 1  \n",
       "1         -33.93         -33.49          49.61                 1  "
      ]
     },
     "execution_count": 293,
     "metadata": {},
     "output_type": "execute_result"
    }
   ],
   "source": [
    "re_cpm_df[col].head(2)"
   ]
  },
  {
   "cell_type": "code",
   "execution_count": null,
   "metadata": {
    "id": "p8sp3GD7KfFR"
   },
   "outputs": [],
   "source": [
    "re_cpm_df[col]"
   ]
  },
  {
   "cell_type": "code",
   "execution_count": 253,
   "metadata": {
    "executionInfo": {
     "elapsed": 262,
     "status": "ok",
     "timestamp": 1665321865234,
     "user": {
      "displayName": "Chaitanya Madduri",
      "userId": "05909831547153523272"
     },
     "user_tz": -120
    },
    "id": "V3ISmMtmy5Vz"
   },
   "outputs": [],
   "source": [
    "re_cpm_df[col].to_csv(DIR_PATH + \"restructuring_data.csv\", index=None)"
   ]
  }
 ],
 "metadata": {
  "colab": {
   "collapsed_sections": [],
   "provenance": [
    {
     "file_id": "14eeNsz8vD01epNPneKIqsC7-X4UWy7iB",
     "timestamp": 1665234189204
    },
    {
     "file_id": "1bpZlVWHUkC_fHWTsZPvio0cKo0F6W2s_",
     "timestamp": 1664868152676
    }
   ]
  },
  "kernelspec": {
   "display_name": "Python 3 (ipykernel)",
   "language": "python",
   "name": "python3"
  },
  "language_info": {
   "codemirror_mode": {
    "name": "ipython",
    "version": 3
   },
   "file_extension": ".py",
   "mimetype": "text/x-python",
   "name": "python",
   "nbconvert_exporter": "python",
   "pygments_lexer": "ipython3",
   "version": "3.8.8"
  }
 },
 "nbformat": 4,
 "nbformat_minor": 1
}
