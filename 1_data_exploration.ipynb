{
 "cells": [
  {
   "cell_type": "markdown",
   "id": "93ff4098",
   "metadata": {},
   "source": [
    "# 1. Identify the Companies of interest\n",
    "-------------------\n",
    "Group 3 , September 24, 2022\n",
    "1. Gezhi Cheng, \n",
    "2. Haowei Lee, \n",
    "3. Ziyi Liu, \n",
    "4. VS Chaitanya Madduri\n",
    "\n",
    "> <i>Description: This notebook understand and extract the list of the companies in the 2021 zip file. </i>\n",
    "\n",
    "\n",
    "<div class=\"alert alert-block alert-info\">\n",
    "    <b>Tip:</b> #Please download and extarct the 2020 quarter1 files. \n",
    "</div> \n",
    "\n",
    "### Pre requisites: \n",
    "1. And add the shortcut of the drive link : https://drive.google.com/drive/folders/1tZP9A0hrAj8ptNP3VE9weYZ3WDn9jHic to your personal drive.\n",
    "\n",
    "The above drive contains the 10-k fillings from the author \n",
    "Bill McDonald\n",
    "\n",
    "Do to the huge files we have used our personal google drive folders to save the files.\n",
    "\n",
    "Files:\n",
    "No files \n",
    "\n",
    "### Output files:\n",
    "1. And add the shortcut of the drive link :https://drive.google.com/drive/folders/1X4UdGsQiHVWSr63FRiz8rwOuWW5Ua8uI?usp=sharing to your personal drive.\n",
    "\n",
    "Files:\n",
    "Company_Details_analysis.csv - list of the companies selected for further analysis\n",
    "\n",
    "\n"
   ]
  },
  {
   "cell_type": "markdown",
   "id": "8b16421b",
   "metadata": {},
   "source": [
    "## 1. Import Required Packages "
   ]
  },
  {
   "cell_type": "code",
   "execution_count": 3,
   "id": "43370dca-7b7e-4260-902b-5ca150459876",
   "metadata": {},
   "outputs": [],
   "source": [
    "import os\n",
    "import pandas as pd"
   ]
  },
  {
   "cell_type": "code",
   "execution_count": 179,
   "id": "0642e485-0bd9-4112-8a5c-bb401a58329e",
   "metadata": {},
   "outputs": [],
   "source": [
    "class CompanyPreprocess:\n",
    "    \n",
    "    def __init__(self):\n",
    "        self.companies = []\n",
    "        self.industries = []\n",
    "        self.company_inedx = []\n",
    "        self.columns = ['Company_Name', 'Std_Indust_Class','Index_Key']\n",
    "        self.master_dataframe = pd.DataFrame(columns= self.columns)\n",
    "    \n",
    "    @staticmethod\n",
    "    def get_files_in_dir(dir_path):\n",
    "        # list to store files\n",
    "        files = []\n",
    "\n",
    "        # Iterate directory\n",
    "        for path in os.listdir(dir_path):\n",
    "            # check if current path is a file\n",
    "            if os.path.isfile(os.path.join(dir_path, path)):\n",
    "                files.append(path)\n",
    "\n",
    "        print(len(files))\n",
    "        return files\n",
    "    \n",
    "    @staticmethod\n",
    "    def get_first_few_files(files, num=100):\n",
    "        '''\n",
    "        get the some files in the zip folder based on the num.\n",
    "        input:\n",
    "        files: list of the files\n",
    "        num: the count of the file\n",
    "        \n",
    "        return:\n",
    "        selected number of the file\n",
    "        '''\n",
    "        first_few_files = files[:num]\n",
    "        \n",
    "        return first_few_files\n",
    "    \n",
    "    def extarct_company_details(self, file_data):\n",
    "        '''\n",
    "        The function extracts the key information from the file.\n",
    "        file_data: the extracted data of the file as a python object\n",
    "        return: (empty)\n",
    "        '''\n",
    "        \n",
    "        index_val = self.master_dataframe.shape[0]\n",
    "        for line in file_data:\n",
    "            \n",
    "            stripped_line = line.strip()\n",
    "            if \"COMPANY CONFORMED NAME:\" in stripped_line :                \n",
    "                splitted_str = stripped_line.split(\":\")  # split COMPANY CONFORMED NAME and real name\n",
    "                company_name = splitted_str[1]        \n",
    "                self.master_dataframe.loc[index_val,\"Company_Name\"] = company_name.strip()\n",
    "                continue\n",
    "                              \n",
    "\n",
    "            if \"CENTRAL INDEX KEY:\" in stripped_line:\n",
    "            \n",
    "                splitted_str = stripped_line.split(\":\")  # split COMPANY CONFORMED NAME and real name\n",
    "                company_inedx = splitted_str[1]\n",
    "                self.master_dataframe.loc[index_val,\"Index_Key\"] = company_inedx.strip()\n",
    "                continue\n",
    "            \n",
    "            if \"STANDARD INDUSTRIAL CLASSIFICATION\" in stripped_line:            \n",
    "                splitted_str = stripped_line.split(\":\")  # split COMPANY CONFORMED NAME and real name\n",
    "                industry_name = splitted_str[1]\n",
    "                self.master_dataframe.loc[index_val,\"Std_Indust_Class\"] = industry_name.strip()\n",
    "            \n",
    "                break  \n",
    "                \n",
    "                \n",
    "    def master_dataframe(self, list_data):\n",
    "        '''\n",
    "        Print the master dataframe to safe the files\n",
    "        '''\n",
    "        return self.master_dataframe\n",
    "    \n",
    "    def extract_file_data(self, file_path):        \n",
    "        '''\n",
    "        functions extracts the files \n",
    "        Input:\n",
    "        file_path: (str) file path of the txt file \n",
    "        \n",
    "        Return : (list) The text file split into a list\n",
    "        '''\n",
    "        with open(file_path) as f:\n",
    "            return f.read().upper().split('\\n')\n",
    "    \n",
    "    def get_company_data(self, file_path):\n",
    "        '''\n",
    "        Extracts the company details\n",
    "        Input:\n",
    "        file_path: (str) file path of the txt file \n",
    "        return: (empty)\n",
    "        '''\n",
    "        file_data = self.extract_file_data(file_path)\n",
    "        self.extarct_company_details(file_data)\n",
    "        \n",
    "    \n",
    "        "
   ]
  },
  {
   "cell_type": "markdown",
   "id": "2e6f9884",
   "metadata": {},
   "source": [
    "## 2. Extracting the company details from the QTR1"
   ]
  },
  {
   "cell_type": "code",
   "execution_count": 201,
   "id": "de2bc83b",
   "metadata": {},
   "outputs": [],
   "source": [
    "cp = CompanyPreprocess()\n",
    "\n",
    "# kindly change the file path as per folder struture you have \n",
    "qtr1_file_path = r\"C:\\Users\\chait\\OneDrive - fs-students.de\\Strategy\\QTR1\\\\\"\n"
   ]
  },
  {
   "cell_type": "code",
   "execution_count": 202,
   "id": "6e490a57",
   "metadata": {},
   "outputs": [
    {
     "name": "stdout",
     "output_type": "stream",
     "text": [
      "3314\n"
     ]
    }
   ],
   "source": [
    "# Below command will extract the files in the QTR1 folder \n",
    "files_QTR1 = CompanyPreprocess.get_files_in_dir(dir_path)\n",
    "\n",
    "# Below command will extract all the files in the QTR1 folder\n",
    "first_few_files = CompanyPreprocess.get_first_few_files(files_QTR1, len(files_QTR1))"
   ]
  },
  {
   "cell_type": "code",
   "execution_count": 203,
   "id": "36f63b76",
   "metadata": {},
   "outputs": [],
   "source": [
    "# looping all the text files and extract the company details\n",
    "# Note we are not retruning and data as we are updating the master dataframe directly\n",
    "for file in first_few_files:\n",
    "    cp.get_company_data(qtr1_file_path + file)"
   ]
  },
  {
   "cell_type": "markdown",
   "id": "7b1a6f9f",
   "metadata": {},
   "source": [
    "## 3. Validate the list and export to a csv"
   ]
  },
  {
   "cell_type": "code",
   "execution_count": 204,
   "id": "bcde4803",
   "metadata": {},
   "outputs": [],
   "source": [
    "#Taking the copy of the master dataframe \n",
    "df = cp.master_dataframe"
   ]
  },
  {
   "cell_type": "code",
   "execution_count": 6,
   "id": "0168a2c7",
   "metadata": {},
   "outputs": [
    {
     "data": {
      "text/plain": [
       "(3314, 4)"
      ]
     },
     "execution_count": 6,
     "metadata": {},
     "output_type": "execute_result"
    }
   ],
   "source": [
    "df.shape"
   ]
  },
  {
   "cell_type": "code",
   "execution_count": 15,
   "id": "ee0d1923",
   "metadata": {},
   "outputs": [],
   "source": [
    "# getting the industry code for the Std_Indust_Class\n",
    "df['Class_number'] = df['Std_Indust_Class'].str[-5:-1]"
   ]
  },
  {
   "cell_type": "code",
   "execution_count": 24,
   "id": "6e5e45aa",
   "metadata": {},
   "outputs": [],
   "source": [
    "# Extracting the firts 2 codes to group the companies with near by industry\n",
    "df['Class_number_first'] = df['Class_number'].str[:2]"
   ]
  },
  {
   "cell_type": "code",
   "execution_count": 25,
   "id": "304f3f4c",
   "metadata": {},
   "outputs": [
    {
     "data": {
      "text/html": [
       "<div>\n",
       "<style scoped>\n",
       "    .dataframe tbody tr th:only-of-type {\n",
       "        vertical-align: middle;\n",
       "    }\n",
       "\n",
       "    .dataframe tbody tr th {\n",
       "        vertical-align: top;\n",
       "    }\n",
       "\n",
       "    .dataframe thead th {\n",
       "        text-align: right;\n",
       "    }\n",
       "</style>\n",
       "<table border=\"1\" class=\"dataframe\">\n",
       "  <thead>\n",
       "    <tr style=\"text-align: right;\">\n",
       "      <th></th>\n",
       "      <th>Unnamed: 0</th>\n",
       "      <th>Company_Name</th>\n",
       "      <th>Std_Indust_Class</th>\n",
       "      <th>Index_Key</th>\n",
       "      <th>Class_number</th>\n",
       "      <th>Class_number_first</th>\n",
       "    </tr>\n",
       "  </thead>\n",
       "  <tbody>\n",
       "    <tr>\n",
       "      <th>0</th>\n",
       "      <td>0</td>\n",
       "      <td>ACCESS-POWER INC</td>\n",
       "      <td>TELEPHONE COMMUNICATIONS (NO RADIO TELEPHONE) ...</td>\n",
       "      <td>1041588</td>\n",
       "      <td>4813</td>\n",
       "      <td>48</td>\n",
       "    </tr>\n",
       "    <tr>\n",
       "      <th>1</th>\n",
       "      <td>1</td>\n",
       "      <td>LUXXO, INC.</td>\n",
       "      <td>SERVICES-MANAGEMENT CONSULTING SERVICES [8742]</td>\n",
       "      <td>1693801</td>\n",
       "      <td>8742</td>\n",
       "      <td>87</td>\n",
       "    </tr>\n",
       "    <tr>\n",
       "      <th>2</th>\n",
       "      <td>2</td>\n",
       "      <td>BIGFOOT PROJECT INVESTMENTS INC</td>\n",
       "      <td>SERVICES-MOTION PICTURE &amp; VIDEO TAPE DISTRIBUT...</td>\n",
       "      <td>1569568</td>\n",
       "      <td>7822</td>\n",
       "      <td>78</td>\n",
       "    </tr>\n",
       "    <tr>\n",
       "      <th>3</th>\n",
       "      <td>3</td>\n",
       "      <td>HUBILU VENTURE CORP</td>\n",
       "      <td>SERVICES-MANAGEMENT CONSULTING SERVICES [8742]</td>\n",
       "      <td>1639068</td>\n",
       "      <td>8742</td>\n",
       "      <td>87</td>\n",
       "    </tr>\n",
       "    <tr>\n",
       "      <th>4</th>\n",
       "      <td>4</td>\n",
       "      <td>CONAGRA BRANDS INC.</td>\n",
       "      <td>FOOD &amp; KINDRED PRODUCTS [2000]</td>\n",
       "      <td>23217</td>\n",
       "      <td>2000</td>\n",
       "      <td>20</td>\n",
       "    </tr>\n",
       "  </tbody>\n",
       "</table>\n",
       "</div>"
      ],
      "text/plain": [
       "   Unnamed: 0                     Company_Name  \\\n",
       "0           0                 ACCESS-POWER INC   \n",
       "1           1                      LUXXO, INC.   \n",
       "2           2  BIGFOOT PROJECT INVESTMENTS INC   \n",
       "3           3              HUBILU VENTURE CORP   \n",
       "4           4              CONAGRA BRANDS INC.   \n",
       "\n",
       "                                    Std_Indust_Class  Index_Key Class_number  \\\n",
       "0  TELEPHONE COMMUNICATIONS (NO RADIO TELEPHONE) ...    1041588         4813   \n",
       "1     SERVICES-MANAGEMENT CONSULTING SERVICES [8742]    1693801         8742   \n",
       "2  SERVICES-MOTION PICTURE & VIDEO TAPE DISTRIBUT...    1569568         7822   \n",
       "3     SERVICES-MANAGEMENT CONSULTING SERVICES [8742]    1639068         8742   \n",
       "4                     FOOD & KINDRED PRODUCTS [2000]      23217         2000   \n",
       "\n",
       "  Class_number_first  \n",
       "0                 48  \n",
       "1                 87  \n",
       "2                 78  \n",
       "3                 87  \n",
       "4                 20  "
      ]
     },
     "execution_count": 25,
     "metadata": {},
     "output_type": "execute_result"
    }
   ],
   "source": [
    "df.head()"
   ]
  },
  {
   "cell_type": "code",
   "execution_count": 32,
   "id": "4881f8d3",
   "metadata": {},
   "outputs": [],
   "source": [
    "# filtering the industry code with 49 and dropping the duplicates to get the unique company names \n",
    "df2 = df[df['Class_number_first']=='49'].drop_duplicates(['Company_Name'])"
   ]
  },
  {
   "cell_type": "code",
   "execution_count": 36,
   "id": "166bfeab",
   "metadata": {},
   "outputs": [],
   "source": [
    "df2.drop(['Unnamed: 0'], axis=1, inplace=True)"
   ]
  },
  {
   "cell_type": "code",
   "execution_count": 37,
   "id": "fa959bda",
   "metadata": {},
   "outputs": [],
   "source": [
    "# Export the company details into the csv\n",
    "df2.to_csv(\"Company_Details_analysis.csv\", index=None)"
   ]
  },
  {
   "cell_type": "markdown",
   "id": "42ffa470",
   "metadata": {},
   "source": [
    "### End of the Notebook"
   ]
  }
 ],
 "metadata": {
  "kernelspec": {
   "display_name": "Python 3 (ipykernel)",
   "language": "python",
   "name": "python3"
  },
  "language_info": {
   "codemirror_mode": {
    "name": "ipython",
    "version": 3
   },
   "file_extension": ".py",
   "mimetype": "text/x-python",
   "name": "python",
   "nbconvert_exporter": "python",
   "pygments_lexer": "ipython3",
   "version": "3.8.8"
  }
 },
 "nbformat": 4,
 "nbformat_minor": 5
}
